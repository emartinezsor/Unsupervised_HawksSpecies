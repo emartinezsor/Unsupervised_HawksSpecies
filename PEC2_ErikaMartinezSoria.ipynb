{
 "cells": [
  {
   "cell_type": "markdown",
   "id": "bc7ed54b",
   "metadata": {},
   "source": [
    "<!--Header-->\n",
    "<div id=\"header\" class=\"fluid-row\" style=\"max-width: 910px; margin-left: auto; margin-right: auto\">\n",
    "    <div class=\"row\" style=\"color: #4D4D4D;font-size: 15px;padding-bottom: 20px\">\n",
    "        <div class=\"col-md-7\">\n",
    "            <img src=\"https://www.uoc.edu/portal/_resources/common/imatges/marca_UOC/UOC_Masterbrand.jpg\" alt=\"Logo UOC\" class=\"img-responsive\" style=\"margin:20px 0px 0px\">\n",
    "        </div>\n",
    "        <div class=\"col-md-5\">\n",
    "            <h1 style=\"margin:15px 0px 0px;font-size: 30px;\">Estudios de Informática, Multimedia y Telecomunicaciones</h1>\n",
    "            <div style=\"text-align:left;margin-top: 5px;\"></div>\n",
    "        </div>\n",
    "    </div>\n",
    "    <div class=\"row\" style=\"background: #73EDFF;padding: 5px 15px;\">\n",
    "        <div class=\"col-md-6\">\n",
    "            <div style=\"text-align:center;\"> </div>\n",
    "        </div>\n",
    "    </div>\n",
    "</div>\n",
    "<!--/Header-->"
   ]
  },
  {
   "cell_type": "markdown",
   "id": "9a02cd2e",
   "metadata": {},
   "source": [
    "# 75.584 Minería de datos\n",
    "### PEC 2\n",
    "\n",
    "\n",
    "Estudiante: Erika Martínez Soria"
   ]
  },
  {
   "cell_type": "code",
   "execution_count": 1,
   "id": "763e648a",
   "metadata": {},
   "outputs": [],
   "source": [
    "#Importar las librerias\n",
    "\n",
    "import pandas as pd\n",
    "import numpy as np\n",
    "from matplotlib import pyplot as plt\n",
    "import seaborn as sns \n",
    "import sklearn\n",
    "from sklearn.preprocessing import StandardScaler\n",
    "from sklearn.cluster import KMeans\n",
    "from sklearn.metrics import silhouette_score\n",
    "from sklearn.cluster import DBSCAN\n",
    "from sklearn.cluster import OPTICS, cluster_optics_dbscan\n",
    "from matplotlib import gridspec\n",
    "from scipy.stats import pearsonr"
   ]
  },
  {
   "cell_type": "code",
   "execution_count": 2,
   "id": "557c6b3e",
   "metadata": {
    "scrolled": false
   },
   "outputs": [
    {
     "data": {
      "text/html": [
       "<div>\n",
       "<style scoped>\n",
       "    .dataframe tbody tr th:only-of-type {\n",
       "        vertical-align: middle;\n",
       "    }\n",
       "\n",
       "    .dataframe tbody tr th {\n",
       "        vertical-align: top;\n",
       "    }\n",
       "\n",
       "    .dataframe thead th {\n",
       "        text-align: right;\n",
       "    }\n",
       "</style>\n",
       "<table border=\"1\" class=\"dataframe\">\n",
       "  <thead>\n",
       "    <tr style=\"text-align: right;\">\n",
       "      <th></th>\n",
       "      <th>Month</th>\n",
       "      <th>Day</th>\n",
       "      <th>Year</th>\n",
       "      <th>CaptureTime</th>\n",
       "      <th>ReleaseTime</th>\n",
       "      <th>BandNumber</th>\n",
       "      <th>Species</th>\n",
       "      <th>Age</th>\n",
       "      <th>Sex</th>\n",
       "      <th>Wing</th>\n",
       "      <th>Weight</th>\n",
       "      <th>Culmen</th>\n",
       "      <th>Hallux</th>\n",
       "      <th>Tail</th>\n",
       "      <th>StandardTail</th>\n",
       "      <th>Tarsus</th>\n",
       "      <th>WingPitFat</th>\n",
       "      <th>KeelFat</th>\n",
       "      <th>Crop</th>\n",
       "    </tr>\n",
       "  </thead>\n",
       "  <tbody>\n",
       "    <tr>\n",
       "      <th>0</th>\n",
       "      <td>9</td>\n",
       "      <td>19</td>\n",
       "      <td>1992</td>\n",
       "      <td>13:30</td>\n",
       "      <td>NaN</td>\n",
       "      <td>877-76317</td>\n",
       "      <td>RT</td>\n",
       "      <td>I</td>\n",
       "      <td>NaN</td>\n",
       "      <td>385.0</td>\n",
       "      <td>920.0</td>\n",
       "      <td>25.7</td>\n",
       "      <td>30.1</td>\n",
       "      <td>219</td>\n",
       "      <td>NaN</td>\n",
       "      <td>NaN</td>\n",
       "      <td>NaN</td>\n",
       "      <td>NaN</td>\n",
       "      <td>NaN</td>\n",
       "    </tr>\n",
       "    <tr>\n",
       "      <th>1</th>\n",
       "      <td>9</td>\n",
       "      <td>22</td>\n",
       "      <td>1992</td>\n",
       "      <td>10:30</td>\n",
       "      <td></td>\n",
       "      <td>877-76318</td>\n",
       "      <td>RT</td>\n",
       "      <td>I</td>\n",
       "      <td>NaN</td>\n",
       "      <td>376.0</td>\n",
       "      <td>930.0</td>\n",
       "      <td>NaN</td>\n",
       "      <td>NaN</td>\n",
       "      <td>221</td>\n",
       "      <td>NaN</td>\n",
       "      <td>NaN</td>\n",
       "      <td>NaN</td>\n",
       "      <td>NaN</td>\n",
       "      <td>NaN</td>\n",
       "    </tr>\n",
       "    <tr>\n",
       "      <th>2</th>\n",
       "      <td>9</td>\n",
       "      <td>23</td>\n",
       "      <td>1992</td>\n",
       "      <td>12:45</td>\n",
       "      <td></td>\n",
       "      <td>877-76319</td>\n",
       "      <td>RT</td>\n",
       "      <td>I</td>\n",
       "      <td>NaN</td>\n",
       "      <td>381.0</td>\n",
       "      <td>990.0</td>\n",
       "      <td>26.7</td>\n",
       "      <td>31.3</td>\n",
       "      <td>235</td>\n",
       "      <td>NaN</td>\n",
       "      <td>NaN</td>\n",
       "      <td>NaN</td>\n",
       "      <td>NaN</td>\n",
       "      <td>NaN</td>\n",
       "    </tr>\n",
       "    <tr>\n",
       "      <th>3</th>\n",
       "      <td>9</td>\n",
       "      <td>23</td>\n",
       "      <td>1992</td>\n",
       "      <td>10:50</td>\n",
       "      <td></td>\n",
       "      <td>745-49508</td>\n",
       "      <td>CH</td>\n",
       "      <td>I</td>\n",
       "      <td>F</td>\n",
       "      <td>265.0</td>\n",
       "      <td>470.0</td>\n",
       "      <td>18.7</td>\n",
       "      <td>23.5</td>\n",
       "      <td>220</td>\n",
       "      <td>NaN</td>\n",
       "      <td>NaN</td>\n",
       "      <td>NaN</td>\n",
       "      <td>NaN</td>\n",
       "      <td>NaN</td>\n",
       "    </tr>\n",
       "    <tr>\n",
       "      <th>4</th>\n",
       "      <td>9</td>\n",
       "      <td>27</td>\n",
       "      <td>1992</td>\n",
       "      <td>11:15</td>\n",
       "      <td></td>\n",
       "      <td>1253-98801</td>\n",
       "      <td>SS</td>\n",
       "      <td>I</td>\n",
       "      <td>F</td>\n",
       "      <td>205.0</td>\n",
       "      <td>170.0</td>\n",
       "      <td>12.5</td>\n",
       "      <td>14.3</td>\n",
       "      <td>157</td>\n",
       "      <td>NaN</td>\n",
       "      <td>NaN</td>\n",
       "      <td>NaN</td>\n",
       "      <td>NaN</td>\n",
       "      <td>NaN</td>\n",
       "    </tr>\n",
       "  </tbody>\n",
       "</table>\n",
       "</div>"
      ],
      "text/plain": [
       "   Month  Day  Year CaptureTime ReleaseTime  BandNumber Species Age  Sex  \\\n",
       "0      9   19  1992       13:30         NaN   877-76317      RT   I  NaN   \n",
       "1      9   22  1992       10:30               877-76318      RT   I  NaN   \n",
       "2      9   23  1992       12:45               877-76319      RT   I  NaN   \n",
       "3      9   23  1992       10:50               745-49508      CH   I    F   \n",
       "4      9   27  1992       11:15              1253-98801      SS   I    F   \n",
       "\n",
       "    Wing  Weight  Culmen  Hallux  Tail  StandardTail  Tarsus  WingPitFat  \\\n",
       "0  385.0   920.0    25.7    30.1   219           NaN     NaN         NaN   \n",
       "1  376.0   930.0     NaN     NaN   221           NaN     NaN         NaN   \n",
       "2  381.0   990.0    26.7    31.3   235           NaN     NaN         NaN   \n",
       "3  265.0   470.0    18.7    23.5   220           NaN     NaN         NaN   \n",
       "4  205.0   170.0    12.5    14.3   157           NaN     NaN         NaN   \n",
       "\n",
       "   KeelFat  Crop  \n",
       "0      NaN   NaN  \n",
       "1      NaN   NaN  \n",
       "2      NaN   NaN  \n",
       "3      NaN   NaN  \n",
       "4      NaN   NaN  "
      ]
     },
     "execution_count": 2,
     "metadata": {},
     "output_type": "execute_result"
    }
   ],
   "source": [
    "# Accedemos al fichero hawks.csv\n",
    "filename = 'hawks.csv'\n",
    "\n",
    "hawksData = pd.read_csv(filename)\n",
    "hawksData.head(5)"
   ]
  },
  {
   "cell_type": "markdown",
   "id": "d733a83e",
   "metadata": {},
   "source": [
    "Revisamos la descripción de las variables de interés que vamos a utilizar en la creación y ejecución de los modelos no supervisados. \n",
    "\n",
    "\n",
    "+ **Species** Especie del halcón. \n",
    "+ **Wing** Tamaño de las alas.\n",
    "+ **Weight** Peso del halcón\n",
    "+ **Culmen** Culmen del halcón.\n",
    "+ **Hallux** Tamaño del dedo gordo o grueso de la pata del halcón. "
   ]
  },
  {
   "cell_type": "markdown",
   "id": "33616702",
   "metadata": {},
   "source": [
    "# Exploración del conjunto de datos\n",
    "Verificamos la estructura del juego de datos principal.\n",
    "\n",
    "Obtenemos el numero de filas y columnas del conjunto de datos."
   ]
  },
  {
   "cell_type": "code",
   "execution_count": 1,
   "id": "763f5c86",
   "metadata": {
    "scrolled": true
   },
   "outputs": [
    {
     "ename": "NameError",
     "evalue": "name 'hawksData' is not defined",
     "output_type": "error",
     "traceback": [
      "\u001b[1;31m---------------------------------------------------------------------------\u001b[0m",
      "\u001b[1;31mNameError\u001b[0m                                 Traceback (most recent call last)",
      "Input \u001b[1;32mIn [1]\u001b[0m, in \u001b[0;36m<cell line: 1>\u001b[1;34m()\u001b[0m\n\u001b[1;32m----> 1\u001b[0m \u001b[43mhawksData\u001b[49m\u001b[38;5;241m.\u001b[39mshape\n",
      "\u001b[1;31mNameError\u001b[0m: name 'hawksData' is not defined"
     ]
    }
   ],
   "source": [
    "hawksData.shape"
   ]
  },
  {
   "cell_type": "markdown",
   "id": "50a8a5f9",
   "metadata": {},
   "source": [
    "Vemos que tenemos **19** variables y **908** registros\n"
   ]
  },
  {
   "cell_type": "markdown",
   "id": "2c45a0a0",
   "metadata": {},
   "source": [
    "A continuacion, tenemos el número de columnas y sus nombres."
   ]
  },
  {
   "cell_type": "code",
   "execution_count": 4,
   "id": "d320ff51",
   "metadata": {
    "scrolled": false
   },
   "outputs": [
    {
     "name": "stdout",
     "output_type": "stream",
     "text": [
      "<class 'pandas.core.frame.DataFrame'>\n",
      "RangeIndex: 908 entries, 0 to 907\n",
      "Data columns (total 19 columns):\n",
      " #   Column        Non-Null Count  Dtype  \n",
      "---  ------        --------------  -----  \n",
      " 0   Month         908 non-null    int64  \n",
      " 1   Day           908 non-null    int64  \n",
      " 2   Year          908 non-null    int64  \n",
      " 3   CaptureTime   908 non-null    object \n",
      " 4   ReleaseTime   907 non-null    object \n",
      " 5   BandNumber    908 non-null    object \n",
      " 6   Species       908 non-null    object \n",
      " 7   Age           908 non-null    object \n",
      " 8   Sex           332 non-null    object \n",
      " 9   Wing          907 non-null    float64\n",
      " 10  Weight        898 non-null    float64\n",
      " 11  Culmen        901 non-null    float64\n",
      " 12  Hallux        902 non-null    float64\n",
      " 13  Tail          908 non-null    int64  \n",
      " 14  StandardTail  571 non-null    float64\n",
      " 15  Tarsus        75 non-null     float64\n",
      " 16  WingPitFat    77 non-null     float64\n",
      " 17  KeelFat       567 non-null    float64\n",
      " 18  Crop          565 non-null    float64\n",
      "dtypes: float64(9), int64(4), object(6)\n",
      "memory usage: 134.9+ KB\n"
     ]
    }
   ],
   "source": [
    "hawksData.info()"
   ]
  },
  {
   "cell_type": "markdown",
   "id": "e1729e68",
   "metadata": {},
   "source": [
    "Las variables de interes (Wing, Weight, Culmen, Hallux) no tienen completo los datos para los 908 registros.\n",
    "La variable *Wing* tiene 907 registros, *Weight* tiene 898, *Culmen* tiene 901 y *Hallux* tiene 902 registros."
   ]
  },
  {
   "cell_type": "markdown",
   "id": "48cec0bb",
   "metadata": {},
   "source": [
    "# Preprocesamiento y gestión de características\n",
    "## Limpieza\n",
    "El siguiente paso será la limpieza de datos, mirando si hay valores vacíos o nulos, y outliers"
   ]
  },
  {
   "cell_type": "code",
   "execution_count": 5,
   "id": "ef900258",
   "metadata": {},
   "outputs": [
    {
     "name": "stdout",
     "output_type": "stream",
     "text": [
      "NA\n"
     ]
    },
    {
     "data": {
      "text/plain": [
       "Month             0\n",
       "Day               0\n",
       "Year              0\n",
       "CaptureTime       0\n",
       "ReleaseTime       1\n",
       "BandNumber        0\n",
       "Species           0\n",
       "Age               0\n",
       "Sex             576\n",
       "Wing              1\n",
       "Weight           10\n",
       "Culmen            7\n",
       "Hallux            6\n",
       "Tail              0\n",
       "StandardTail    337\n",
       "Tarsus          833\n",
       "WingPitFat      831\n",
       "KeelFat         341\n",
       "Crop            343\n",
       "dtype: int64"
      ]
     },
     "execution_count": 5,
     "metadata": {},
     "output_type": "execute_result"
    }
   ],
   "source": [
    "print(\"NA\")\n",
    "hawksData.isnull().sum()"
   ]
  },
  {
   "cell_type": "markdown",
   "id": "8b2dfc2e",
   "metadata": {},
   "source": [
    "Como ya observamos en el anterior apartado las variables de interes tienen registros nulos. *Wing* tiene 1 registro nulo, *Weight* tiene 10, *Culmen* tiene 7 y *Hallux* tiene 6 registros nulos. \n",
    "\n",
    "Revisamos mas en detalle los datos de las cuatro variables con el resumen estadistico.  "
   ]
  },
  {
   "cell_type": "markdown",
   "id": "0449e8fe",
   "metadata": {},
   "source": [
    "### Wing\n",
    "Revisamos algunos datos e informacion de la variable *Wing*"
   ]
  },
  {
   "cell_type": "code",
   "execution_count": 6,
   "id": "6ec6f050",
   "metadata": {},
   "outputs": [
    {
     "data": {
      "text/plain": [
       "count    907.000000\n",
       "mean     315.637486\n",
       "std       95.277591\n",
       "min       37.200000\n",
       "25%      202.000000\n",
       "50%      370.000000\n",
       "75%      390.000000\n",
       "max      480.000000\n",
       "Name: Wing, dtype: float64"
      ]
     },
     "execution_count": 6,
     "metadata": {},
     "output_type": "execute_result"
    }
   ],
   "source": [
    "#Resumen estadístico del la variable Wing\n",
    "hawksData[\"Wing\"].describe()"
   ]
  },
  {
   "cell_type": "code",
   "execution_count": 7,
   "id": "0eea6efb",
   "metadata": {
    "scrolled": false
   },
   "outputs": [
    {
     "data": {
      "image/png": "[encoded data removed]",
      "text/plain": [
       "<Figure size 432x288 with 1 Axes>"
      ]
     },
     "metadata": {
      "needs_background": "light"
     },
     "output_type": "display_data"
    }
   ],
   "source": [
    "#Histograma de la varible Wing\n",
    "ax = hawksData[\"Wing\"].plot.hist()"
   ]
  },
  {
   "cell_type": "markdown",
   "id": "d5b874bb",
   "metadata": {},
   "source": [
    "La distribucion de la variable *Wing* es bimodal. "
   ]
  },
  {
   "cell_type": "code",
   "execution_count": 8,
   "id": "3f8cb856",
   "metadata": {
    "scrolled": true
   },
   "outputs": [
    {
     "data": {
      "image/png": "[encoded data removed]",
      "text/plain": [
       "<Figure size 432x288 with 1 Axes>"
      ]
     },
     "metadata": {
      "needs_background": "light"
     },
     "output_type": "display_data"
    }
   ],
   "source": [
    "#Boxplot\n",
    "df=hawksData['Wing']\n",
    "\n",
    "sns.boxplot(data=df)\n",
    "plt.xticks(rotation=90)\n",
    "plt.ylabel('Valor')\n",
    "plt.show()\n",
    "\n",
    "#https://towardsdatascience.com/practical-implementation-of-outlier-detection-in-python-90680453b3ce \n",
    "#https://stackoverflow.com/questions/49554139/boxplot-of-multiple-columns-of-a-pandas-dataframe-on-the-same-figure-seaborn "
   ]
  },
  {
   "cell_type": "markdown",
   "id": "3e82238f",
   "metadata": {},
   "source": [
    "Parece no haber outliers en la variable *Wing*."
   ]
  },
  {
   "cell_type": "markdown",
   "id": "5f1de36c",
   "metadata": {},
   "source": [
    "Ahora imputamos los registros nulos de la variable Wing con la mediana de los datos. "
   ]
  },
  {
   "cell_type": "code",
   "execution_count": 9,
   "id": "fb916bba",
   "metadata": {},
   "outputs": [
    {
     "name": "stdout",
     "output_type": "stream",
     "text": [
      "Numero actualizado de nulos en la variable Wing: 0\n"
     ]
    }
   ],
   "source": [
    "hawksData['Wing'].fillna(hawksData['Wing'].median(), inplace=True)\n",
    "\n",
    "print(\"Numero actualizado de nulos en la variable Wing: \" + str(hawksData['Wing'].isnull().sum()))"
   ]
  },
  {
   "cell_type": "markdown",
   "id": "640d4839",
   "metadata": {},
   "source": [
    "Con la media imputada, ahora ya no existen valores nulos en la variable *Wing* ."
   ]
  },
  {
   "cell_type": "markdown",
   "id": "97550b15",
   "metadata": {},
   "source": [
    "### Weight\n",
    "Revisamos algunos datos e informacion de la variable *Weight*"
   ]
  },
  {
   "cell_type": "code",
   "execution_count": 10,
   "id": "095f2b6f",
   "metadata": {},
   "outputs": [
    {
     "data": {
      "text/plain": [
       "count     898.000000\n",
       "mean      772.080178\n",
       "std       462.311760\n",
       "min        56.000000\n",
       "25%       185.000000\n",
       "50%       970.000000\n",
       "75%      1120.000000\n",
       "max      2030.000000\n",
       "Name: Weight, dtype: float64"
      ]
     },
     "execution_count": 10,
     "metadata": {},
     "output_type": "execute_result"
    }
   ],
   "source": [
    "#Resumen estadístico del la variable Weight\n",
    "hawksData[\"Weight\"].describe()"
   ]
  },
  {
   "cell_type": "code",
   "execution_count": 11,
   "id": "a7fefe4c",
   "metadata": {
    "scrolled": true
   },
   "outputs": [
    {
     "data": {
      "image/png": "[encoded data removed]",
      "text/plain": [
       "<Figure size 432x288 with 1 Axes>"
      ]
     },
     "metadata": {
      "needs_background": "light"
     },
     "output_type": "display_data"
    }
   ],
   "source": [
    "#Histograma de la varible Weight\n",
    "ax = hawksData[\"Weight\"].plot.hist()"
   ]
  },
  {
   "cell_type": "markdown",
   "id": "cf132e3d",
   "metadata": {},
   "source": [
    "La distribucion de la variable *Weight* es bimodal."
   ]
  },
  {
   "cell_type": "code",
   "execution_count": 12,
   "id": "e9083d83",
   "metadata": {},
   "outputs": [
    {
     "data": {
      "image/png": "[encoded data removed]",
      "text/plain": [
       "<Figure size 432x288 with 1 Axes>"
      ]
     },
     "metadata": {
      "needs_background": "light"
     },
     "output_type": "display_data"
    }
   ],
   "source": [
    "#Boxplot\n",
    "df=hawksData['Weight']\n",
    "\n",
    "sns.boxplot(data=df)\n",
    "plt.xticks(rotation=90)\n",
    "plt.ylabel('Valor')\n",
    "plt.show()"
   ]
  },
  {
   "cell_type": "markdown",
   "id": "4316d586",
   "metadata": {},
   "source": [
    "No hay outliers en la variable *Weight*"
   ]
  },
  {
   "cell_type": "markdown",
   "id": "38b39385",
   "metadata": {},
   "source": [
    "Ahora imputamos los registros nulos de la variable Weight con la mediana de los datos."
   ]
  },
  {
   "cell_type": "code",
   "execution_count": 13,
   "id": "7ec2bb3c",
   "metadata": {
    "scrolled": true
   },
   "outputs": [
    {
     "name": "stdout",
     "output_type": "stream",
     "text": [
      "Numero actualizado de nulos en la variable Weight: 0\n"
     ]
    }
   ],
   "source": [
    "hawksData['Weight'].fillna(hawksData['Weight'].median(), inplace=True)\n",
    "\n",
    "print(\"Numero actualizado de nulos en la variable Weight: \" + str(hawksData['Weight'].isnull().sum()))"
   ]
  },
  {
   "cell_type": "markdown",
   "id": "61c5e35f",
   "metadata": {},
   "source": [
    "### Culmen\n",
    "Revisamos algunos datos e informacion de la variable *Culmen*"
   ]
  },
  {
   "cell_type": "code",
   "execution_count": 14,
   "id": "6374a562",
   "metadata": {},
   "outputs": [
    {
     "data": {
      "text/plain": [
       "count    901.000000\n",
       "mean      21.801498\n",
       "std        7.284175\n",
       "min        8.600000\n",
       "25%       12.800000\n",
       "50%       25.500000\n",
       "75%       27.300000\n",
       "max       39.200000\n",
       "Name: Culmen, dtype: float64"
      ]
     },
     "execution_count": 14,
     "metadata": {},
     "output_type": "execute_result"
    }
   ],
   "source": [
    "#Resumen estadístico del la variable Culmen\n",
    "hawksData[\"Culmen\"].describe()"
   ]
  },
  {
   "cell_type": "code",
   "execution_count": 15,
   "id": "fc15541d",
   "metadata": {
    "scrolled": true
   },
   "outputs": [
    {
     "data": {
      "image/png": "[encoded data removed]",
      "text/plain": [
       "<Figure size 432x288 with 1 Axes>"
      ]
     },
     "metadata": {
      "needs_background": "light"
     },
     "output_type": "display_data"
    }
   ],
   "source": [
    "#Histograma de la varible Culmen\n",
    "ax = hawksData[\"Culmen\"].plot.hist()"
   ]
  },
  {
   "cell_type": "markdown",
   "id": "228ce3f5",
   "metadata": {},
   "source": [
    "La distribucion de la variable *Culmen* es bimodal."
   ]
  },
  {
   "cell_type": "code",
   "execution_count": 16,
   "id": "4752504c",
   "metadata": {
    "scrolled": true
   },
   "outputs": [
    {
     "data": {
      "image/png": "[encoded data removed]",
      "text/plain": [
       "<Figure size 432x288 with 1 Axes>"
      ]
     },
     "metadata": {
      "needs_background": "light"
     },
     "output_type": "display_data"
    }
   ],
   "source": [
    "#Boxplot\n",
    "df=hawksData['Culmen']\n",
    "\n",
    "sns.boxplot(data=df)\n",
    "plt.xticks(rotation=90)\n",
    "plt.ylabel('Valor')\n",
    "plt.show()"
   ]
  },
  {
   "cell_type": "markdown",
   "id": "ea35fba2",
   "metadata": {},
   "source": [
    "No hay outliers en la variable *Culmen*"
   ]
  },
  {
   "cell_type": "markdown",
   "id": "07d47503",
   "metadata": {},
   "source": [
    "Imputamos los registros nulos de la variable Culmen con la mediana de los datos."
   ]
  },
  {
   "cell_type": "code",
   "execution_count": 17,
   "id": "9cd07329",
   "metadata": {},
   "outputs": [
    {
     "name": "stdout",
     "output_type": "stream",
     "text": [
      "Numero actualizado de nulos en la variable Culmen: 0\n"
     ]
    }
   ],
   "source": [
    "hawksData['Culmen'].fillna(hawksData['Culmen'].median(), inplace=True)\n",
    "\n",
    "print(\"Numero actualizado de nulos en la variable Culmen: \" + str(hawksData['Culmen'].isnull().sum()))"
   ]
  },
  {
   "cell_type": "markdown",
   "id": "5144fe87",
   "metadata": {},
   "source": [
    "### Hallux\n",
    "Revisamos algunos datos e informacion de la variable *Hallux*"
   ]
  },
  {
   "cell_type": "code",
   "execution_count": 18,
   "id": "cf664d67",
   "metadata": {
    "scrolled": true
   },
   "outputs": [
    {
     "data": {
      "text/plain": [
       "count    902.000000\n",
       "mean      26.410865\n",
       "std       17.734704\n",
       "min        9.500000\n",
       "25%       15.100000\n",
       "50%       29.400000\n",
       "75%       31.400000\n",
       "max      341.400000\n",
       "Name: Hallux, dtype: float64"
      ]
     },
     "execution_count": 18,
     "metadata": {},
     "output_type": "execute_result"
    }
   ],
   "source": [
    "#Resumen estadístico del la variable Hallux\n",
    "hawksData[\"Hallux\"].describe()"
   ]
  },
  {
   "cell_type": "code",
   "execution_count": 19,
   "id": "3713da94",
   "metadata": {
    "scrolled": false
   },
   "outputs": [
    {
     "data": {
      "image/png": "[encoded data removed]",
      "text/plain": [
       "<Figure size 432x288 with 1 Axes>"
      ]
     },
     "metadata": {
      "needs_background": "light"
     },
     "output_type": "display_data"
    }
   ],
   "source": [
    "#Boxplot\n",
    "df=hawksData['Hallux']\n",
    "\n",
    "sns.boxplot(data=df)\n",
    "plt.xticks(rotation=90)\n",
    "plt.ylabel('Valor')\n",
    "plt.show()"
   ]
  },
  {
   "cell_type": "markdown",
   "id": "e8ca920a",
   "metadata": {},
   "source": [
    "Vemos que existen outliers en la variable Hallux. Todos son mayores que el máximo valor en el boxplot."
   ]
  },
  {
   "cell_type": "markdown",
   "id": "76d18b22",
   "metadata": {},
   "source": [
    "Obtenemos los registros de los outliers de la variable Hallux"
   ]
  },
  {
   "cell_type": "code",
   "execution_count": 20,
   "id": "e43b75ca",
   "metadata": {},
   "outputs": [
    {
     "data": {
      "text/plain": [
       "39     101.0\n",
       "90     308.0\n",
       "95     341.4\n",
       "102    143.0\n",
       "188     82.8\n",
       "582    121.0\n",
       "617    130.0\n",
       "Name: Hallux, dtype: float64"
      ]
     },
     "execution_count": 20,
     "metadata": {},
     "output_type": "execute_result"
    }
   ],
   "source": [
    "#Obtenemos los registros de los outliers. \n",
    "def obtener_outlier_IQR(df):\n",
    "    Q1=df.quantile(0.25)\n",
    "    Q3=df.quantile(0.75)\n",
    "    IQR=Q3-Q1\n",
    "    df_final=df[((df<(Q1-1.5*IQR)) | (df>(Q3+1.5*IQR)))]  #~\n",
    "    return df_final\n",
    "\n",
    "df=hawksData['Hallux']\n",
    "df_hallux_sin_outliers = obtener_outlier_IQR(df)\n",
    "df_hallux_sin_outliers"
   ]
  },
  {
   "cell_type": "markdown",
   "id": "1ed5df34",
   "metadata": {},
   "source": [
    "La variables *Hallux* tiene 7 outliers."
   ]
  },
  {
   "cell_type": "markdown",
   "id": "9b63e7fa",
   "metadata": {},
   "source": [
    "Reemplazamos los outliers por el valor máximo, ya que todos los outliers soy mayores a este. "
   ]
  },
  {
   "cell_type": "code",
   "execution_count": 21,
   "id": "44e21109",
   "metadata": {
    "scrolled": true
   },
   "outputs": [
    {
     "data": {
      "text/plain": [
       "39     55.85\n",
       "90     55.85\n",
       "95     55.85\n",
       "102    55.85\n",
       "188    55.85\n",
       "582    55.85\n",
       "617    55.85\n",
       "Name: Hallux, dtype: float64"
      ]
     },
     "execution_count": 21,
     "metadata": {},
     "output_type": "execute_result"
    }
   ],
   "source": [
    "#Obtenemos el maximo valor posible\n",
    "Q1=hawksData['Hallux'].quantile(0.25)\n",
    "Q3=hawksData['Hallux'].quantile(0.75)\n",
    "IQR=Q3-Q1\n",
    "max_quantile= Q3+1.5*IQR\n",
    "\n",
    "#Reemplazamos los outliers por el maximo valor\n",
    "hawksData['Hallux'] = np.where(hawksData['Hallux'] > max_quantile, max_quantile, hawksData['Hallux'])\n",
    "\n",
    "#Imprimimos los outliers que han sido reemplazados por el maximo valor. \n",
    "hawksData['Hallux'][hawksData['Hallux'] == max_quantile ]"
   ]
  },
  {
   "cell_type": "markdown",
   "id": "7fc405cb",
   "metadata": {},
   "source": [
    "Visualizamos la distribución de la variable Hallux, ahora sin outliers."
   ]
  },
  {
   "cell_type": "code",
   "execution_count": 22,
   "id": "d9f85625",
   "metadata": {
    "scrolled": false
   },
   "outputs": [
    {
     "data": {
      "image/png": "[encoded data removed]",
      "text/plain": [
       "<Figure size 432x288 with 1 Axes>"
      ]
     },
     "metadata": {
      "needs_background": "light"
     },
     "output_type": "display_data"
    }
   ],
   "source": [
    "#Histograma de la varible Hallux sin outliers. \n",
    "ax = hawksData[\"Hallux\"].plot.hist()"
   ]
  },
  {
   "cell_type": "markdown",
   "id": "b71f7edd",
   "metadata": {},
   "source": [
    "La distribucion de la variable *Hallux* es bimodal."
   ]
  },
  {
   "cell_type": "code",
   "execution_count": 23,
   "id": "7cfa6910",
   "metadata": {},
   "outputs": [
    {
     "name": "stdout",
     "output_type": "stream",
     "text": [
      "Numero actualizado de nulos en la variable Hallux: 0\n"
     ]
    }
   ],
   "source": [
    "hawksData['Hallux'].fillna(hawksData['Hallux'].median(), inplace=True)\n",
    "\n",
    "print(\"Numero actualizado de nulos en la variable Hallux: \" + str(hawksData['Hallux'].isnull().sum()))"
   ]
  },
  {
   "cell_type": "markdown",
   "id": "7008ee0b",
   "metadata": {},
   "source": [
    "## Covarianza y correlación \n",
    "### Covarianza"
   ]
  },
  {
   "cell_type": "markdown",
   "id": "632d6016",
   "metadata": {},
   "source": [
    "Creamos una matriz de covarianza de las 4 variables de interés"
   ]
  },
  {
   "cell_type": "code",
   "execution_count": 24,
   "id": "b246640f",
   "metadata": {
    "scrolled": true
   },
   "outputs": [
    {
     "name": "stdout",
     "output_type": "stream",
     "text": [
      "                Wing         Weight       Culmen       Hallux\n",
      "Wing     9071.065351   40560.149530   657.948927   707.270869\n",
      "Weight  40560.149530  211802.821015  3162.877362  3405.360999\n",
      "Culmen    657.948927    3162.877362    52.754465    55.563801\n",
      "Hallux    707.270869    3405.360999    55.563801    75.237407\n"
     ]
    }
   ],
   "source": [
    "data = hawksData[['Wing', 'Weight', 'Culmen', 'Hallux' ]]\n",
    "df = pd.DataFrame(data,columns=['Wing', 'Weight', 'Culmen', 'Hallux'])\n",
    "covMatrix = pd.DataFrame.cov(df)\n",
    "print (covMatrix)"
   ]
  },
  {
   "cell_type": "markdown",
   "id": "4f057e39",
   "metadata": {},
   "source": [
    "La covarianza entre las cuatro variables es positiva, lo que sugiere que las variables cambian en la misma dirección."
   ]
  },
  {
   "cell_type": "markdown",
   "id": "9ba8e693",
   "metadata": {},
   "source": [
    "### Correlación "
   ]
  },
  {
   "cell_type": "markdown",
   "id": "50b6520d",
   "metadata": {},
   "source": [
    "Creamos una matriz de correlación de las 4 variables de interés"
   ]
  },
  {
   "cell_type": "code",
   "execution_count": 1,
   "id": "e97d5f55",
   "metadata": {
    "scrolled": false
   },
   "outputs": [
    {
     "ename": "NameError",
     "evalue": "name 'hawksData' is not defined",
     "output_type": "error",
     "traceback": [
      "\u001b[1;31m---------------------------------------------------------------------------\u001b[0m",
      "\u001b[1;31mNameError\u001b[0m                                 Traceback (most recent call last)",
      "Input \u001b[1;32mIn [1]\u001b[0m, in \u001b[0;36m<cell line: 1>\u001b[1;34m()\u001b[0m\n\u001b[1;32m----> 1\u001b[0m data \u001b[38;5;241m=\u001b[39m \u001b[43mhawksData\u001b[49m[[\u001b[38;5;124m'\u001b[39m\u001b[38;5;124mWing\u001b[39m\u001b[38;5;124m'\u001b[39m, \u001b[38;5;124m'\u001b[39m\u001b[38;5;124mWeight\u001b[39m\u001b[38;5;124m'\u001b[39m, \u001b[38;5;124m'\u001b[39m\u001b[38;5;124mCulmen\u001b[39m\u001b[38;5;124m'\u001b[39m, \u001b[38;5;124m'\u001b[39m\u001b[38;5;124mHallux\u001b[39m\u001b[38;5;124m'\u001b[39m ]]\n\u001b[0;32m      2\u001b[0m df \u001b[38;5;241m=\u001b[39m pd\u001b[38;5;241m.\u001b[39mDataFrame(data,columns\u001b[38;5;241m=\u001b[39m[\u001b[38;5;124m'\u001b[39m\u001b[38;5;124mWing\u001b[39m\u001b[38;5;124m'\u001b[39m, \u001b[38;5;124m'\u001b[39m\u001b[38;5;124mWeight\u001b[39m\u001b[38;5;124m'\u001b[39m, \u001b[38;5;124m'\u001b[39m\u001b[38;5;124mCulmen\u001b[39m\u001b[38;5;124m'\u001b[39m, \u001b[38;5;124m'\u001b[39m\u001b[38;5;124mHallux\u001b[39m\u001b[38;5;124m'\u001b[39m])\n\u001b[0;32m      3\u001b[0m corrMatrix \u001b[38;5;241m=\u001b[39m df\u001b[38;5;241m.\u001b[39mcorr()\n",
      "\u001b[1;31mNameError\u001b[0m: name 'hawksData' is not defined"
     ]
    }
   ],
   "source": [
    "data = hawksData[['Wing', 'Weight', 'Culmen', 'Hallux' ]]\n",
    "df = pd.DataFrame(data,columns=['Wing', 'Weight', 'Culmen', 'Hallux'])\n",
    "corrMatrix = df.corr()\n",
    "print (corrMatrix)"
   ]
  },
  {
   "cell_type": "markdown",
   "id": "cb596f4b",
   "metadata": {},
   "source": [
    "La correlación entre las cuatro variables es alta, siendo la menor de 0.85 y la mayor 0.95. Lo que significa que podría ser posible usar una o dos variables para crear los clusters de las especies. "
   ]
  },
  {
   "cell_type": "markdown",
   "id": "93d69846",
   "metadata": {},
   "source": [
    "## Standarización / Normalización\n",
    "\n",
    "Ya limpios los datos de las variables de interés, al haber tratado los valores nulos y atípicos, ahora vamos a normalizar o estandarizar los datos para reducir todas las características a una escala común sin distorsionar las diferencias en el rango de los valores, así evitamos que una variable que esté en una escala superior tenga mayor peso.\n",
    "\n",
    "Para eso vamos a utilizar StandardScaler para normalizar los datos basados en la desviación estándar, dando el resultado de las medias de las cuatro variables cero o un valor cercano a cero, y la desviación estándar uno o cercano a uno. "
   ]
  },
  {
   "cell_type": "code",
   "execution_count": 26,
   "id": "ed0a7a0c",
   "metadata": {
    "scrolled": false
   },
   "outputs": [
    {
     "data": {
      "text/html": [
       "<div>\n",
       "<style scoped>\n",
       "    .dataframe tbody tr th:only-of-type {\n",
       "        vertical-align: middle;\n",
       "    }\n",
       "\n",
       "    .dataframe tbody tr th {\n",
       "        vertical-align: top;\n",
       "    }\n",
       "\n",
       "    .dataframe thead th {\n",
       "        text-align: right;\n",
       "    }\n",
       "</style>\n",
       "<table border=\"1\" class=\"dataframe\">\n",
       "  <thead>\n",
       "    <tr style=\"text-align: right;\">\n",
       "      <th></th>\n",
       "      <th>Wing</th>\n",
       "      <th>Weight</th>\n",
       "      <th>Culmen</th>\n",
       "      <th>Hallux</th>\n",
       "    </tr>\n",
       "  </thead>\n",
       "  <tbody>\n",
       "    <tr>\n",
       "      <th>0</th>\n",
       "      <td>0.728048</td>\n",
       "      <td>0.316849</td>\n",
       "      <td>0.533113</td>\n",
       "      <td>0.529504</td>\n",
       "    </tr>\n",
       "    <tr>\n",
       "      <th>1</th>\n",
       "      <td>0.633500</td>\n",
       "      <td>0.338590</td>\n",
       "      <td>0.505562</td>\n",
       "      <td>0.448758</td>\n",
       "    </tr>\n",
       "    <tr>\n",
       "      <th>2</th>\n",
       "      <td>0.686027</td>\n",
       "      <td>0.469034</td>\n",
       "      <td>0.670869</td>\n",
       "      <td>0.667926</td>\n",
       "    </tr>\n",
       "    <tr>\n",
       "      <th>3</th>\n",
       "      <td>-0.532593</td>\n",
       "      <td>-0.661482</td>\n",
       "      <td>-0.431177</td>\n",
       "      <td>-0.231814</td>\n",
       "    </tr>\n",
       "    <tr>\n",
       "      <th>4</th>\n",
       "      <td>-1.162913</td>\n",
       "      <td>-1.313703</td>\n",
       "      <td>-1.285262</td>\n",
       "      <td>-1.293046</td>\n",
       "    </tr>\n",
       "    <tr>\n",
       "      <th>...</th>\n",
       "      <td>...</td>\n",
       "      <td>...</td>\n",
       "      <td>...</td>\n",
       "      <td>...</td>\n",
       "    </tr>\n",
       "    <tr>\n",
       "      <th>903</th>\n",
       "      <td>0.675521</td>\n",
       "      <td>1.632161</td>\n",
       "      <td>0.574440</td>\n",
       "      <td>0.241126</td>\n",
       "    </tr>\n",
       "    <tr>\n",
       "      <th>904</th>\n",
       "      <td>-1.320494</td>\n",
       "      <td>-1.302833</td>\n",
       "      <td>-1.257711</td>\n",
       "      <td>-1.166159</td>\n",
       "    </tr>\n",
       "    <tr>\n",
       "      <th>905</th>\n",
       "      <td>0.465414</td>\n",
       "      <td>0.034220</td>\n",
       "      <td>0.009641</td>\n",
       "      <td>0.241126</td>\n",
       "    </tr>\n",
       "    <tr>\n",
       "      <th>906</th>\n",
       "      <td>0.559962</td>\n",
       "      <td>0.186405</td>\n",
       "      <td>0.464235</td>\n",
       "      <td>0.287267</td>\n",
       "    </tr>\n",
       "    <tr>\n",
       "      <th>907</th>\n",
       "      <td>-1.225945</td>\n",
       "      <td>1.121255</td>\n",
       "      <td>0.946380</td>\n",
       "      <td>0.760207</td>\n",
       "    </tr>\n",
       "  </tbody>\n",
       "</table>\n",
       "<p>908 rows × 4 columns</p>\n",
       "</div>"
      ],
      "text/plain": [
       "         Wing    Weight    Culmen    Hallux\n",
       "0    0.728048  0.316849  0.533113  0.529504\n",
       "1    0.633500  0.338590  0.505562  0.448758\n",
       "2    0.686027  0.469034  0.670869  0.667926\n",
       "3   -0.532593 -0.661482 -0.431177 -0.231814\n",
       "4   -1.162913 -1.313703 -1.285262 -1.293046\n",
       "..        ...       ...       ...       ...\n",
       "903  0.675521  1.632161  0.574440  0.241126\n",
       "904 -1.320494 -1.302833 -1.257711 -1.166159\n",
       "905  0.465414  0.034220  0.009641  0.241126\n",
       "906  0.559962  0.186405  0.464235  0.287267\n",
       "907 -1.225945  1.121255  0.946380  0.760207\n",
       "\n",
       "[908 rows x 4 columns]"
      ]
     },
     "execution_count": 26,
     "metadata": {},
     "output_type": "execute_result"
    }
   ],
   "source": [
    "data = hawksData[['Wing', 'Weight', 'Culmen', 'Hallux' ]]\n",
    "scaler = StandardScaler()\n",
    "scaler.fit(data)\n",
    "hawksData_scaled = scaler.transform(data)\n",
    "hawksDataVar = pd.DataFrame(hawksData_scaled)\n",
    "hawksDataVar.columns =['Wing', 'Weight', 'Culmen', 'Hallux']\n",
    "hawksDataVar\n",
    "\n",
    "#https://scikit-learn.org/stable/modules/generated/sklearn.preprocessing.StandardScaler.html\n",
    "#https://www.youtube.com/watch?v=Q9E8BTBA6IE&ab_channel=RitheshSreenivasan"
   ]
  },
  {
   "cell_type": "markdown",
   "id": "eb3a3b64",
   "metadata": {},
   "source": [
    "Decidimos estandarizar las variables porque así todas las características tienen la misma media y varianza, lo que facilita la comparación. También es menos sensible a valores atípicos extremos que el normalizador min-max. Además, conserva la distribución original. \n",
    "\n",
    "Fuente: https://mkang32.github.io/python/2020/12/27/feature-scaling.html#std "
   ]
  },
  {
   "cell_type": "code",
   "execution_count": 27,
   "id": "c436feb9",
   "metadata": {
    "scrolled": true
   },
   "outputs": [
    {
     "data": {
      "text/html": [
       "<div>\n",
       "<style scoped>\n",
       "    .dataframe tbody tr th:only-of-type {\n",
       "        vertical-align: middle;\n",
       "    }\n",
       "\n",
       "    .dataframe tbody tr th {\n",
       "        vertical-align: top;\n",
       "    }\n",
       "\n",
       "    .dataframe thead th {\n",
       "        text-align: right;\n",
       "    }\n",
       "</style>\n",
       "<table border=\"1\" class=\"dataframe\">\n",
       "  <thead>\n",
       "    <tr style=\"text-align: right;\">\n",
       "      <th></th>\n",
       "      <th>Wing</th>\n",
       "      <th>Weight</th>\n",
       "      <th>Culmen</th>\n",
       "      <th>Hallux</th>\n",
       "    </tr>\n",
       "  </thead>\n",
       "  <tbody>\n",
       "    <tr>\n",
       "      <th>count</th>\n",
       "      <td>9.080000e+02</td>\n",
       "      <td>9.080000e+02</td>\n",
       "      <td>9.080000e+02</td>\n",
       "      <td>9.080000e+02</td>\n",
       "    </tr>\n",
       "    <tr>\n",
       "      <th>mean</th>\n",
       "      <td>-1.655553e-16</td>\n",
       "      <td>4.401765e-17</td>\n",
       "      <td>-1.936777e-16</td>\n",
       "      <td>6.274961e-16</td>\n",
       "    </tr>\n",
       "    <tr>\n",
       "      <th>std</th>\n",
       "      <td>1.000551e+00</td>\n",
       "      <td>1.000551e+00</td>\n",
       "      <td>1.000551e+00</td>\n",
       "      <td>1.000551e+00</td>\n",
       "    </tr>\n",
       "    <tr>\n",
       "      <th>min</th>\n",
       "      <td>-2.925710e+00</td>\n",
       "      <td>-1.561547e+00</td>\n",
       "      <td>-1.822510e+00</td>\n",
       "      <td>-1.846732e+00</td>\n",
       "    </tr>\n",
       "    <tr>\n",
       "      <th>25%</th>\n",
       "      <td>-1.194429e+00</td>\n",
       "      <td>-1.277287e+00</td>\n",
       "      <td>-1.243936e+00</td>\n",
       "      <td>-1.192113e+00</td>\n",
       "    </tr>\n",
       "    <tr>\n",
       "      <th>50%</th>\n",
       "      <td>5.704678e-01</td>\n",
       "      <td>4.255525e-01</td>\n",
       "      <td>5.055620e-01</td>\n",
       "      <td>4.487584e-01</td>\n",
       "    </tr>\n",
       "    <tr>\n",
       "      <th>75%</th>\n",
       "      <td>7.805746e-01</td>\n",
       "      <td>7.516630e-01</td>\n",
       "      <td>7.535223e-01</td>\n",
       "      <td>6.794609e-01</td>\n",
       "    </tr>\n",
       "    <tr>\n",
       "      <th>max</th>\n",
       "      <td>1.726055e+00</td>\n",
       "      <td>2.730066e+00</td>\n",
       "      <td>2.392815e+00</td>\n",
       "      <td>3.499799e+00</td>\n",
       "    </tr>\n",
       "  </tbody>\n",
       "</table>\n",
       "</div>"
      ],
      "text/plain": [
       "               Wing        Weight        Culmen        Hallux\n",
       "count  9.080000e+02  9.080000e+02  9.080000e+02  9.080000e+02\n",
       "mean  -1.655553e-16  4.401765e-17 -1.936777e-16  6.274961e-16\n",
       "std    1.000551e+00  1.000551e+00  1.000551e+00  1.000551e+00\n",
       "min   -2.925710e+00 -1.561547e+00 -1.822510e+00 -1.846732e+00\n",
       "25%   -1.194429e+00 -1.277287e+00 -1.243936e+00 -1.192113e+00\n",
       "50%    5.704678e-01  4.255525e-01  5.055620e-01  4.487584e-01\n",
       "75%    7.805746e-01  7.516630e-01  7.535223e-01  6.794609e-01\n",
       "max    1.726055e+00  2.730066e+00  2.392815e+00  3.499799e+00"
      ]
     },
     "execution_count": 27,
     "metadata": {},
     "output_type": "execute_result"
    }
   ],
   "source": [
    "hawksDataVar.describe()"
   ]
  },
  {
   "cell_type": "markdown",
   "id": "6e4339ea",
   "metadata": {},
   "source": [
    "Podemos observar que las medias de las variables son un valor cercano a 0 y el valor de las desviaciones estándar es 1. "
   ]
  },
  {
   "cell_type": "markdown",
   "id": "ad089491",
   "metadata": {},
   "source": [
    "# Modelado\n",
    "\n",
    "## Busqueda de la cantidad óptima de clusters"
   ]
  },
  {
   "cell_type": "markdown",
   "id": "f17d328c",
   "metadata": {},
   "source": [
    "### Within Cluster Sum of Squares \n",
    "\n",
    "Para saber el número adecuado de clusters utilizamos el método *elbow*, que consiste en ir creando diferentes cantidades de clusters y calcular que tan similares son las muestras dentro de los clusters. \n",
    "Recordemos que miestras mas similares sean las muestras, más distantes estarán los clusters que se forman, que es lo que buscamos en el clutering, la formación de grupos bien definidos que contengan muestras que sus disntancia entre sí sean la menor posible. Esta distancia se mide a través de la suma de los cuadrados dentro de cada grupo, lo que se llama WCSS (Within Cluster Sum of Squares) \n",
    "\n",
    "Fuente: https://www.youtube.com/watch?v=s6PSSzeUMFk "
   ]
  },
  {
   "cell_type": "code",
   "execution_count": 28,
   "id": "b62d4a85",
   "metadata": {},
   "outputs": [
    {
     "name": "stderr",
     "output_type": "stream",
     "text": [
      "C:\\Users\\Erika Martinez\\Anaconda\\envs\\Env R y Python\\lib\\site-packages\\sklearn\\cluster\\_kmeans.py:1036: UserWarning: KMeans is known to have a memory leak on Windows with MKL, when there are less chunks than available threads. You can avoid it by setting the environment variable OMP_NUM_THREADS=4.\n",
      "  warnings.warn(\n"
     ]
    }
   ],
   "source": [
    "#Calculamos que tan similares son las muestras dentro de los clusters.\n",
    "wcss = []\n",
    "\n",
    "for i in range(1, 11):\n",
    "    kmeans = KMeans(n_clusters = i)\n",
    "    kmeans.fit(hawksDataVar)  #Se aplica K-means en los datos de las 4 variables.\n",
    "    wcss.append(kmeans.inertia_)"
   ]
  },
  {
   "cell_type": "code",
   "execution_count": 29,
   "id": "b6cfee91",
   "metadata": {
    "scrolled": true
   },
   "outputs": [
    {
     "data": {
      "image/png": "[encoded data removed]",
      "text/plain": [
       "<Figure size 432x288 with 1 Axes>"
      ]
     },
     "metadata": {
      "needs_background": "light"
     },
     "output_type": "display_data"
    }
   ],
   "source": [
    "plt.plot(range(1, 11), wcss)\n",
    "plt.title('Metodo del Codo')\n",
    "plt.xlabel('Numero de clusters')\n",
    "plt.ylabel('WCSS')  #WCSS indica que tan similares son las muestras dentro de los clusteres.\n",
    "plt.show()"
   ]
  },
  {
   "cell_type": "markdown",
   "id": "87ba737c",
   "metadata": {},
   "source": [
    "Podemos visualizar que el número óptimo de clusters es 2, ya que es en ese punto donde se forma el codo. "
   ]
  },
  {
   "cell_type": "markdown",
   "id": "122b2992",
   "metadata": {},
   "source": [
    "### Coeficiente de Silhouette\n",
    "Usamos el Silhouette Score que es la media del coeficiente de Silhouette para todas las muestras. Recordemos que el coeficiente de Silhouette de una muestra es igual a (b-a)/max(a,b), donde a es la distancia media a las otras muestras en el mismo cluster y b es la distancia minima de la muestra a cualquier otra muestra del resto de clusters.\n",
    "\n",
    "Fuentes:\n",
    "\n",
    "https://www.youtube.com/watch?v=Qh7VxLsaU9M\n",
    "\n",
    "https://www.youtube.com/watch?v=zQfEc7vA1gU "
   ]
  },
  {
   "cell_type": "code",
   "execution_count": 30,
   "id": "8762e711",
   "metadata": {},
   "outputs": [
    {
     "name": "stderr",
     "output_type": "stream",
     "text": [
      "C:\\Users\\Erika Martinez\\Anaconda\\envs\\Env R y Python\\lib\\site-packages\\sklearn\\cluster\\_kmeans.py:1036: UserWarning: KMeans is known to have a memory leak on Windows with MKL, when there are less chunks than available threads. You can avoid it by setting the environment variable OMP_NUM_THREADS=4.\n",
      "  warnings.warn(\n"
     ]
    }
   ],
   "source": [
    "kmeans_per_k = []\n",
    "\n",
    "for i in range(1, 11):\n",
    "    kmeans = KMeans(n_clusters = i, random_state=42)\n",
    "    kmeans.fit(hawksDataVar)  #Se aplica K-means en los datos de las 4 variables.\n",
    "    kmeans_per_k.append(kmeans.labels_)\n",
    "\n",
    "silhouette_scores = []\n",
    "for model in kmeans_per_k[1:]:\n",
    "    score = silhouette_score(hawksDataVar, model)\n",
    "    silhouette_scores.append(score)"
   ]
  },
  {
   "cell_type": "code",
   "execution_count": 31,
   "id": "404fde5f",
   "metadata": {},
   "outputs": [
    {
     "data": {
      "image/png": "[encoded data removed]",
      "text/plain": [
       "<Figure size 432x288 with 1 Axes>"
      ]
     },
     "metadata": {
      "needs_background": "light"
     },
     "output_type": "display_data"
    }
   ],
   "source": [
    "plt.plot(range(2, 11), silhouette_scores)\n",
    "plt.title('Silhouette Media')\n",
    "plt.xlabel('Numero de clusters')\n",
    "plt.ylabel('Silhouette scores')  #WCSS indica que tan similares son las muestras dentro de los clusteres.\n",
    "plt.show()"
   ]
  },
  {
   "cell_type": "markdown",
   "id": "561315b6",
   "metadata": {},
   "source": [
    "Como podemos observar el método de la silueta indica que el número óptimo de clusters es 2. "
   ]
  },
  {
   "cell_type": "markdown",
   "id": "77bd4d97",
   "metadata": {},
   "source": [
    "## Ejercicio 1\n",
    "## Aplicación de K-Means\n",
    "### K-Means con 2 clusters "
   ]
  },
  {
   "cell_type": "markdown",
   "id": "c86b051c",
   "metadata": {},
   "source": [
    "Con los resultados del Within Cluster Sum of Squares y el coeficiente de silueta, procedemos a utilizar 2 como el número de clusters para el modelo K-Means. "
   ]
  },
  {
   "cell_type": "code",
   "execution_count": 32,
   "id": "8596d51e",
   "metadata": {
    "scrolled": false
   },
   "outputs": [
    {
     "data": {
      "text/html": [
       "<div>\n",
       "<style scoped>\n",
       "    .dataframe tbody tr th:only-of-type {\n",
       "        vertical-align: middle;\n",
       "    }\n",
       "\n",
       "    .dataframe tbody tr th {\n",
       "        vertical-align: top;\n",
       "    }\n",
       "\n",
       "    .dataframe thead th {\n",
       "        text-align: right;\n",
       "    }\n",
       "</style>\n",
       "<table border=\"1\" class=\"dataframe\">\n",
       "  <thead>\n",
       "    <tr style=\"text-align: right;\">\n",
       "      <th></th>\n",
       "      <th>Month</th>\n",
       "      <th>Day</th>\n",
       "      <th>Year</th>\n",
       "      <th>CaptureTime</th>\n",
       "      <th>ReleaseTime</th>\n",
       "      <th>BandNumber</th>\n",
       "      <th>Species</th>\n",
       "      <th>Age</th>\n",
       "      <th>Sex</th>\n",
       "      <th>Wing</th>\n",
       "      <th>Weight</th>\n",
       "      <th>Culmen</th>\n",
       "      <th>Hallux</th>\n",
       "      <th>Tail</th>\n",
       "      <th>StandardTail</th>\n",
       "      <th>Tarsus</th>\n",
       "      <th>WingPitFat</th>\n",
       "      <th>KeelFat</th>\n",
       "      <th>Crop</th>\n",
       "      <th>KMeans_Clusters</th>\n",
       "    </tr>\n",
       "  </thead>\n",
       "  <tbody>\n",
       "    <tr>\n",
       "      <th>0</th>\n",
       "      <td>9</td>\n",
       "      <td>19</td>\n",
       "      <td>1992</td>\n",
       "      <td>13:30</td>\n",
       "      <td>NaN</td>\n",
       "      <td>877-76317</td>\n",
       "      <td>RT</td>\n",
       "      <td>I</td>\n",
       "      <td>NaN</td>\n",
       "      <td>385.0</td>\n",
       "      <td>920.0</td>\n",
       "      <td>25.7</td>\n",
       "      <td>30.1</td>\n",
       "      <td>219</td>\n",
       "      <td>NaN</td>\n",
       "      <td>NaN</td>\n",
       "      <td>NaN</td>\n",
       "      <td>NaN</td>\n",
       "      <td>NaN</td>\n",
       "      <td>1</td>\n",
       "    </tr>\n",
       "    <tr>\n",
       "      <th>1</th>\n",
       "      <td>9</td>\n",
       "      <td>22</td>\n",
       "      <td>1992</td>\n",
       "      <td>10:30</td>\n",
       "      <td></td>\n",
       "      <td>877-76318</td>\n",
       "      <td>RT</td>\n",
       "      <td>I</td>\n",
       "      <td>NaN</td>\n",
       "      <td>376.0</td>\n",
       "      <td>930.0</td>\n",
       "      <td>25.5</td>\n",
       "      <td>29.4</td>\n",
       "      <td>221</td>\n",
       "      <td>NaN</td>\n",
       "      <td>NaN</td>\n",
       "      <td>NaN</td>\n",
       "      <td>NaN</td>\n",
       "      <td>NaN</td>\n",
       "      <td>1</td>\n",
       "    </tr>\n",
       "    <tr>\n",
       "      <th>2</th>\n",
       "      <td>9</td>\n",
       "      <td>23</td>\n",
       "      <td>1992</td>\n",
       "      <td>12:45</td>\n",
       "      <td></td>\n",
       "      <td>877-76319</td>\n",
       "      <td>RT</td>\n",
       "      <td>I</td>\n",
       "      <td>NaN</td>\n",
       "      <td>381.0</td>\n",
       "      <td>990.0</td>\n",
       "      <td>26.7</td>\n",
       "      <td>31.3</td>\n",
       "      <td>235</td>\n",
       "      <td>NaN</td>\n",
       "      <td>NaN</td>\n",
       "      <td>NaN</td>\n",
       "      <td>NaN</td>\n",
       "      <td>NaN</td>\n",
       "      <td>1</td>\n",
       "    </tr>\n",
       "    <tr>\n",
       "      <th>3</th>\n",
       "      <td>9</td>\n",
       "      <td>23</td>\n",
       "      <td>1992</td>\n",
       "      <td>10:50</td>\n",
       "      <td></td>\n",
       "      <td>745-49508</td>\n",
       "      <td>CH</td>\n",
       "      <td>I</td>\n",
       "      <td>F</td>\n",
       "      <td>265.0</td>\n",
       "      <td>470.0</td>\n",
       "      <td>18.7</td>\n",
       "      <td>23.5</td>\n",
       "      <td>220</td>\n",
       "      <td>NaN</td>\n",
       "      <td>NaN</td>\n",
       "      <td>NaN</td>\n",
       "      <td>NaN</td>\n",
       "      <td>NaN</td>\n",
       "      <td>0</td>\n",
       "    </tr>\n",
       "    <tr>\n",
       "      <th>4</th>\n",
       "      <td>9</td>\n",
       "      <td>27</td>\n",
       "      <td>1992</td>\n",
       "      <td>11:15</td>\n",
       "      <td></td>\n",
       "      <td>1253-98801</td>\n",
       "      <td>SS</td>\n",
       "      <td>I</td>\n",
       "      <td>F</td>\n",
       "      <td>205.0</td>\n",
       "      <td>170.0</td>\n",
       "      <td>12.5</td>\n",
       "      <td>14.3</td>\n",
       "      <td>157</td>\n",
       "      <td>NaN</td>\n",
       "      <td>NaN</td>\n",
       "      <td>NaN</td>\n",
       "      <td>NaN</td>\n",
       "      <td>NaN</td>\n",
       "      <td>0</td>\n",
       "    </tr>\n",
       "  </tbody>\n",
       "</table>\n",
       "</div>"
      ],
      "text/plain": [
       "   Month  Day  Year CaptureTime ReleaseTime  BandNumber Species Age  Sex  \\\n",
       "0      9   19  1992       13:30         NaN   877-76317      RT   I  NaN   \n",
       "1      9   22  1992       10:30               877-76318      RT   I  NaN   \n",
       "2      9   23  1992       12:45               877-76319      RT   I  NaN   \n",
       "3      9   23  1992       10:50               745-49508      CH   I    F   \n",
       "4      9   27  1992       11:15              1253-98801      SS   I    F   \n",
       "\n",
       "    Wing  Weight  Culmen  Hallux  Tail  StandardTail  Tarsus  WingPitFat  \\\n",
       "0  385.0   920.0    25.7    30.1   219           NaN     NaN         NaN   \n",
       "1  376.0   930.0    25.5    29.4   221           NaN     NaN         NaN   \n",
       "2  381.0   990.0    26.7    31.3   235           NaN     NaN         NaN   \n",
       "3  265.0   470.0    18.7    23.5   220           NaN     NaN         NaN   \n",
       "4  205.0   170.0    12.5    14.3   157           NaN     NaN         NaN   \n",
       "\n",
       "   KeelFat  Crop  KMeans_Clusters  \n",
       "0      NaN   NaN                1  \n",
       "1      NaN   NaN                1  \n",
       "2      NaN   NaN                1  \n",
       "3      NaN   NaN                0  \n",
       "4      NaN   NaN                0  "
      ]
     },
     "execution_count": 32,
     "metadata": {},
     "output_type": "execute_result"
    }
   ],
   "source": [
    "#Creamos el modelo\n",
    "clusteringKmeans1 = KMeans(n_clusters=2) \n",
    "\n",
    "#Aplicamos el modelo \n",
    "clusteringKmeans1.fit(hawksDataVar) \n",
    "\n",
    "#Los resultados se guardan en labels_, estos los colocamos en una nueva columna llamada KMeans_Clusters\n",
    "hawksData[\"KMeans_Clusters\"]=clusteringKmeans1.labels_ \n",
    "\n",
    "hawksData.head(5)"
   ]
  },
  {
   "cell_type": "markdown",
   "id": "2715e4f5",
   "metadata": {},
   "source": [
    "### Gráfico para las variables *Wing* y *Weight*"
   ]
  },
  {
   "cell_type": "code",
   "execution_count": 33,
   "id": "08c33d70",
   "metadata": {
    "scrolled": false
   },
   "outputs": [
    {
     "data": {
      "image/png": "[encoded data removed]",
      "text/plain": [
       "<Figure size 432x432 with 1 Axes>"
      ]
     },
     "metadata": {
      "needs_background": "light"
     },
     "output_type": "display_data"
    }
   ],
   "source": [
    "#Graficamos los clusters para las variables Wing y Weight\n",
    "fig = plt.figure(figsize = (6,6))\n",
    "\n",
    "ax = fig.add_subplot(1,1,1)\n",
    "ax.set_xlabel(\"Wing\", fontsize=15)\n",
    "ax.set_ylabel(\"Weight\", fontsize=15)\n",
    "ax.set_title(\"2 Clusters para las variables Wing y Weight\", fontsize=18)\n",
    "\n",
    "color_theme = np.array([\"blue\", \"green\"])\n",
    "ax.scatter(x=hawksData[\"Wing\"], y=hawksData[\"Weight\"], c=color_theme[hawksData[\"KMeans_Clusters\"]], s=20)\n",
    "\n",
    "plt.show()"
   ]
  },
  {
   "cell_type": "markdown",
   "id": "ba2f087e",
   "metadata": {},
   "source": [
    "### Gráfico para las variables  *Culmen* y *Hallux* "
   ]
  },
  {
   "cell_type": "code",
   "execution_count": 34,
   "id": "cd3241a1",
   "metadata": {},
   "outputs": [
    {
     "data": {
      "image/png": "[encoded data removed]",
      "text/plain": [
       "<Figure size 432x432 with 1 Axes>"
      ]
     },
     "metadata": {
      "needs_background": "light"
     },
     "output_type": "display_data"
    }
   ],
   "source": [
    "#Graficamos los clusters para las variables Culmen y Hallux\n",
    "fig = plt.figure(figsize = (6,6))\n",
    "\n",
    "ax = fig.add_subplot(1,1,1)\n",
    "ax.set_xlabel(\"Culmen\", fontsize=15)\n",
    "ax.set_ylabel(\"Hallux\", fontsize=15)\n",
    "ax.set_title(\"2 Clusters para las variables Culmen y Hallux\", fontsize=18)\n",
    "\n",
    "color_theme = np.array([\"red\", \"orange\"])\n",
    "ax.scatter(x=hawksData[\"Culmen\"], y=hawksData[\"Hallux\"], c=color_theme[hawksData[\"KMeans_Clusters\"]], s=20)\n",
    "\n",
    "plt.show()"
   ]
  },
  {
   "cell_type": "markdown",
   "id": "58ea25b0",
   "metadata": {},
   "source": [
    "### Gráfico para las variables *Wing*  y *Culmen* "
   ]
  },
  {
   "cell_type": "code",
   "execution_count": 35,
   "id": "43b30495",
   "metadata": {},
   "outputs": [
    {
     "data": {
      "image/png": "[encoded data removed]",
      "text/plain": [
       "<Figure size 432x432 with 1 Axes>"
      ]
     },
     "metadata": {
      "needs_background": "light"
     },
     "output_type": "display_data"
    }
   ],
   "source": [
    "#Graficamos los clusters para las variables Wing y Culmen\n",
    "fig = plt.figure(figsize = (6,6))\n",
    "\n",
    "ax = fig.add_subplot(1,1,1)\n",
    "ax.set_xlabel(\"Wing\", fontsize=15)\n",
    "ax.set_ylabel(\"Culmen\", fontsize=15)\n",
    "ax.set_title(\"2 Clusters para las variables Wing y Culmen\", fontsize=18)\n",
    "\n",
    "np.random.seed(10)\n",
    "color_theme = np.array([\"blue\", \"yellow\"])\n",
    "ax.scatter(x=hawksData[\"Wing\"], y=hawksData[\"Culmen\"], c=color_theme[hawksData[\"KMeans_Clusters\"]], s=20)\n",
    "\n",
    "plt.show()"
   ]
  },
  {
   "cell_type": "markdown",
   "id": "565dc43a",
   "metadata": {},
   "source": [
    "Las medidas de *Wing* y *Culmen* parecen lograr mejores resultados al dividir las dos especies de alcones. El grupo formado por los puntos amarillos que ha encontrado el algoritmo coincide con la especie *RT*, mientras los puntos azules parecen estar confomados por las especies *CH* y *SS*. K-Means nos sugiere agrupar las muestras en 2 clusters, pero el dataset nos indica que existen 3 especies. Por lo que se las especies *CH* y *SS* han sido unidas en un solo cluster.\n",
    "\n",
    "Para entender los grupos que se han formado, se puede darles un nombre. Cómo por ejemplo:  \n",
    " \n",
    " - Grupo 1: Sólo *RT* (color azul)  \n",
    " - Grupo 2: Combinacion de *CH* y *SS* (color amarillo)  \n",
    "\n",
    "**P.S. Los colores cambian, *RT* puede que no sea color azul al ejecutar el código**"
   ]
  },
  {
   "cell_type": "markdown",
   "id": "9c97f384",
   "metadata": {},
   "source": [
    "Evaluacion del modelo para 2 clusters"
   ]
  },
  {
   "cell_type": "code",
   "execution_count": 36,
   "id": "33309a9a",
   "metadata": {
    "scrolled": true
   },
   "outputs": [
    {
     "name": "stdout",
     "output_type": "stream",
     "text": [
      "Silhouette Score para K-Means 2 clusters: 0.767\n"
     ]
    }
   ],
   "source": [
    "score = silhouette_score(hawksDataVar, clusteringKmeans1.labels_)\n",
    "print('Silhouette Score para K-Means 2 clusters: %.3f' % score)"
   ]
  },
  {
   "cell_type": "markdown",
   "id": "5fe9ecb2",
   "metadata": {},
   "source": [
    "Silhouette es una medida de la calidad del agrupamiento que determina que tan bien se encuentra cada objeto dentro de su grupo, un valor alto en la silueta promedio implica un buen agrupamiento (Los valores van de -1 a 1). "
   ]
  },
  {
   "cell_type": "markdown",
   "id": "dd017151",
   "metadata": {},
   "source": [
    "### K-Means con 3 clusters"
   ]
  },
  {
   "cell_type": "markdown",
   "id": "2486f7aa",
   "metadata": {},
   "source": [
    "A pesar de que el número óptimo de clusters nos dió 2 utilizando algunas técnicas. Vamos a probar con 3 clusters, debido a que sabemos que existen 3 especies según el dataset. "
   ]
  },
  {
   "cell_type": "code",
   "execution_count": 37,
   "id": "91ea9f2a",
   "metadata": {},
   "outputs": [
    {
     "data": {
      "text/html": [
       "<div>\n",
       "<style scoped>\n",
       "    .dataframe tbody tr th:only-of-type {\n",
       "        vertical-align: middle;\n",
       "    }\n",
       "\n",
       "    .dataframe tbody tr th {\n",
       "        vertical-align: top;\n",
       "    }\n",
       "\n",
       "    .dataframe thead th {\n",
       "        text-align: right;\n",
       "    }\n",
       "</style>\n",
       "<table border=\"1\" class=\"dataframe\">\n",
       "  <thead>\n",
       "    <tr style=\"text-align: right;\">\n",
       "      <th></th>\n",
       "      <th>Month</th>\n",
       "      <th>Day</th>\n",
       "      <th>Year</th>\n",
       "      <th>CaptureTime</th>\n",
       "      <th>ReleaseTime</th>\n",
       "      <th>BandNumber</th>\n",
       "      <th>Species</th>\n",
       "      <th>Age</th>\n",
       "      <th>Sex</th>\n",
       "      <th>Wing</th>\n",
       "      <th>...</th>\n",
       "      <th>Culmen</th>\n",
       "      <th>Hallux</th>\n",
       "      <th>Tail</th>\n",
       "      <th>StandardTail</th>\n",
       "      <th>Tarsus</th>\n",
       "      <th>WingPitFat</th>\n",
       "      <th>KeelFat</th>\n",
       "      <th>Crop</th>\n",
       "      <th>KMeans_Clusters</th>\n",
       "      <th>KMeans_Clusters3</th>\n",
       "    </tr>\n",
       "  </thead>\n",
       "  <tbody>\n",
       "    <tr>\n",
       "      <th>0</th>\n",
       "      <td>9</td>\n",
       "      <td>19</td>\n",
       "      <td>1992</td>\n",
       "      <td>13:30</td>\n",
       "      <td>NaN</td>\n",
       "      <td>877-76317</td>\n",
       "      <td>RT</td>\n",
       "      <td>I</td>\n",
       "      <td>NaN</td>\n",
       "      <td>385.0</td>\n",
       "      <td>...</td>\n",
       "      <td>25.7</td>\n",
       "      <td>30.1</td>\n",
       "      <td>219</td>\n",
       "      <td>NaN</td>\n",
       "      <td>NaN</td>\n",
       "      <td>NaN</td>\n",
       "      <td>NaN</td>\n",
       "      <td>NaN</td>\n",
       "      <td>1</td>\n",
       "      <td>0</td>\n",
       "    </tr>\n",
       "    <tr>\n",
       "      <th>1</th>\n",
       "      <td>9</td>\n",
       "      <td>22</td>\n",
       "      <td>1992</td>\n",
       "      <td>10:30</td>\n",
       "      <td></td>\n",
       "      <td>877-76318</td>\n",
       "      <td>RT</td>\n",
       "      <td>I</td>\n",
       "      <td>NaN</td>\n",
       "      <td>376.0</td>\n",
       "      <td>...</td>\n",
       "      <td>25.5</td>\n",
       "      <td>29.4</td>\n",
       "      <td>221</td>\n",
       "      <td>NaN</td>\n",
       "      <td>NaN</td>\n",
       "      <td>NaN</td>\n",
       "      <td>NaN</td>\n",
       "      <td>NaN</td>\n",
       "      <td>1</td>\n",
       "      <td>0</td>\n",
       "    </tr>\n",
       "    <tr>\n",
       "      <th>2</th>\n",
       "      <td>9</td>\n",
       "      <td>23</td>\n",
       "      <td>1992</td>\n",
       "      <td>12:45</td>\n",
       "      <td></td>\n",
       "      <td>877-76319</td>\n",
       "      <td>RT</td>\n",
       "      <td>I</td>\n",
       "      <td>NaN</td>\n",
       "      <td>381.0</td>\n",
       "      <td>...</td>\n",
       "      <td>26.7</td>\n",
       "      <td>31.3</td>\n",
       "      <td>235</td>\n",
       "      <td>NaN</td>\n",
       "      <td>NaN</td>\n",
       "      <td>NaN</td>\n",
       "      <td>NaN</td>\n",
       "      <td>NaN</td>\n",
       "      <td>1</td>\n",
       "      <td>0</td>\n",
       "    </tr>\n",
       "    <tr>\n",
       "      <th>3</th>\n",
       "      <td>9</td>\n",
       "      <td>23</td>\n",
       "      <td>1992</td>\n",
       "      <td>10:50</td>\n",
       "      <td></td>\n",
       "      <td>745-49508</td>\n",
       "      <td>CH</td>\n",
       "      <td>I</td>\n",
       "      <td>F</td>\n",
       "      <td>265.0</td>\n",
       "      <td>...</td>\n",
       "      <td>18.7</td>\n",
       "      <td>23.5</td>\n",
       "      <td>220</td>\n",
       "      <td>NaN</td>\n",
       "      <td>NaN</td>\n",
       "      <td>NaN</td>\n",
       "      <td>NaN</td>\n",
       "      <td>NaN</td>\n",
       "      <td>0</td>\n",
       "      <td>2</td>\n",
       "    </tr>\n",
       "    <tr>\n",
       "      <th>4</th>\n",
       "      <td>9</td>\n",
       "      <td>27</td>\n",
       "      <td>1992</td>\n",
       "      <td>11:15</td>\n",
       "      <td></td>\n",
       "      <td>1253-98801</td>\n",
       "      <td>SS</td>\n",
       "      <td>I</td>\n",
       "      <td>F</td>\n",
       "      <td>205.0</td>\n",
       "      <td>...</td>\n",
       "      <td>12.5</td>\n",
       "      <td>14.3</td>\n",
       "      <td>157</td>\n",
       "      <td>NaN</td>\n",
       "      <td>NaN</td>\n",
       "      <td>NaN</td>\n",
       "      <td>NaN</td>\n",
       "      <td>NaN</td>\n",
       "      <td>0</td>\n",
       "      <td>1</td>\n",
       "    </tr>\n",
       "    <tr>\n",
       "      <th>5</th>\n",
       "      <td>9</td>\n",
       "      <td>28</td>\n",
       "      <td>1992</td>\n",
       "      <td>11:25</td>\n",
       "      <td></td>\n",
       "      <td>1207-55910</td>\n",
       "      <td>RT</td>\n",
       "      <td>I</td>\n",
       "      <td>NaN</td>\n",
       "      <td>412.0</td>\n",
       "      <td>...</td>\n",
       "      <td>28.5</td>\n",
       "      <td>32.2</td>\n",
       "      <td>230</td>\n",
       "      <td>NaN</td>\n",
       "      <td>NaN</td>\n",
       "      <td>NaN</td>\n",
       "      <td>NaN</td>\n",
       "      <td>NaN</td>\n",
       "      <td>1</td>\n",
       "      <td>0</td>\n",
       "    </tr>\n",
       "    <tr>\n",
       "      <th>6</th>\n",
       "      <td>9</td>\n",
       "      <td>28</td>\n",
       "      <td>1992</td>\n",
       "      <td>13:30</td>\n",
       "      <td></td>\n",
       "      <td>877-76320</td>\n",
       "      <td>RT</td>\n",
       "      <td>I</td>\n",
       "      <td>NaN</td>\n",
       "      <td>370.0</td>\n",
       "      <td>...</td>\n",
       "      <td>25.3</td>\n",
       "      <td>30.1</td>\n",
       "      <td>212</td>\n",
       "      <td>NaN</td>\n",
       "      <td>NaN</td>\n",
       "      <td>NaN</td>\n",
       "      <td>NaN</td>\n",
       "      <td>NaN</td>\n",
       "      <td>1</td>\n",
       "      <td>0</td>\n",
       "    </tr>\n",
       "    <tr>\n",
       "      <th>7</th>\n",
       "      <td>9</td>\n",
       "      <td>29</td>\n",
       "      <td>1992</td>\n",
       "      <td>11:45</td>\n",
       "      <td></td>\n",
       "      <td>877-76321</td>\n",
       "      <td>RT</td>\n",
       "      <td>A</td>\n",
       "      <td>NaN</td>\n",
       "      <td>375.0</td>\n",
       "      <td>...</td>\n",
       "      <td>27.2</td>\n",
       "      <td>30.0</td>\n",
       "      <td>243</td>\n",
       "      <td>NaN</td>\n",
       "      <td>NaN</td>\n",
       "      <td>NaN</td>\n",
       "      <td>NaN</td>\n",
       "      <td>NaN</td>\n",
       "      <td>1</td>\n",
       "      <td>0</td>\n",
       "    </tr>\n",
       "    <tr>\n",
       "      <th>8</th>\n",
       "      <td>9</td>\n",
       "      <td>29</td>\n",
       "      <td>1992</td>\n",
       "      <td>15:35</td>\n",
       "      <td></td>\n",
       "      <td>877-76322</td>\n",
       "      <td>RT</td>\n",
       "      <td>A</td>\n",
       "      <td>NaN</td>\n",
       "      <td>412.0</td>\n",
       "      <td>...</td>\n",
       "      <td>29.3</td>\n",
       "      <td>31.3</td>\n",
       "      <td>210</td>\n",
       "      <td>NaN</td>\n",
       "      <td>NaN</td>\n",
       "      <td>NaN</td>\n",
       "      <td>NaN</td>\n",
       "      <td>NaN</td>\n",
       "      <td>1</td>\n",
       "      <td>0</td>\n",
       "    </tr>\n",
       "    <tr>\n",
       "      <th>9</th>\n",
       "      <td>9</td>\n",
       "      <td>30</td>\n",
       "      <td>1992</td>\n",
       "      <td>13:45</td>\n",
       "      <td></td>\n",
       "      <td>1207-55911</td>\n",
       "      <td>RT</td>\n",
       "      <td>I</td>\n",
       "      <td>NaN</td>\n",
       "      <td>405.0</td>\n",
       "      <td>...</td>\n",
       "      <td>26.0</td>\n",
       "      <td>30.2</td>\n",
       "      <td>238</td>\n",
       "      <td>NaN</td>\n",
       "      <td>NaN</td>\n",
       "      <td>NaN</td>\n",
       "      <td>NaN</td>\n",
       "      <td>NaN</td>\n",
       "      <td>1</td>\n",
       "      <td>0</td>\n",
       "    </tr>\n",
       "  </tbody>\n",
       "</table>\n",
       "<p>10 rows × 21 columns</p>\n",
       "</div>"
      ],
      "text/plain": [
       "   Month  Day  Year CaptureTime ReleaseTime   BandNumber Species Age  Sex  \\\n",
       "0      9   19  1992       13:30         NaN    877-76317      RT   I  NaN   \n",
       "1      9   22  1992       10:30                877-76318      RT   I  NaN   \n",
       "2      9   23  1992       12:45                877-76319      RT   I  NaN   \n",
       "3      9   23  1992       10:50                745-49508      CH   I    F   \n",
       "4      9   27  1992       11:15               1253-98801      SS   I    F   \n",
       "5      9   28  1992       11:25              1207-55910       RT   I  NaN   \n",
       "6      9   28  1992       13:30                877-76320      RT   I  NaN   \n",
       "7      9   29  1992       11:45                877-76321      RT   A  NaN   \n",
       "8      9   29  1992       15:35                877-76322      RT   A  NaN   \n",
       "9      9   30  1992       13:45               1207-55911      RT   I  NaN   \n",
       "\n",
       "    Wing  ...  Culmen  Hallux  Tail  StandardTail  Tarsus  WingPitFat  \\\n",
       "0  385.0  ...    25.7    30.1   219           NaN     NaN         NaN   \n",
       "1  376.0  ...    25.5    29.4   221           NaN     NaN         NaN   \n",
       "2  381.0  ...    26.7    31.3   235           NaN     NaN         NaN   \n",
       "3  265.0  ...    18.7    23.5   220           NaN     NaN         NaN   \n",
       "4  205.0  ...    12.5    14.3   157           NaN     NaN         NaN   \n",
       "5  412.0  ...    28.5    32.2   230           NaN     NaN         NaN   \n",
       "6  370.0  ...    25.3    30.1   212           NaN     NaN         NaN   \n",
       "7  375.0  ...    27.2    30.0   243           NaN     NaN         NaN   \n",
       "8  412.0  ...    29.3    31.3   210           NaN     NaN         NaN   \n",
       "9  405.0  ...    26.0    30.2   238           NaN     NaN         NaN   \n",
       "\n",
       "   KeelFat  Crop  KMeans_Clusters  KMeans_Clusters3  \n",
       "0      NaN   NaN                1                 0  \n",
       "1      NaN   NaN                1                 0  \n",
       "2      NaN   NaN                1                 0  \n",
       "3      NaN   NaN                0                 2  \n",
       "4      NaN   NaN                0                 1  \n",
       "5      NaN   NaN                1                 0  \n",
       "6      NaN   NaN                1                 0  \n",
       "7      NaN   NaN                1                 0  \n",
       "8      NaN   NaN                1                 0  \n",
       "9      NaN   NaN                1                 0  \n",
       "\n",
       "[10 rows x 21 columns]"
      ]
     },
     "execution_count": 37,
     "metadata": {},
     "output_type": "execute_result"
    }
   ],
   "source": [
    "#Creamos el modelo\n",
    "clusteringKmeans2 = KMeans(n_clusters=3) \n",
    "\n",
    "#Aplicamos el modelo \n",
    "clusteringKmeans2.fit(hawksDataVar) \n",
    "\n",
    "#Los resultados se guardan en labels_, estos los colocamos en una nueva columna llamada KMeans_Clusters\n",
    "hawksData[\"KMeans_Clusters3\"]=clusteringKmeans2.labels_ \n",
    "\n",
    "hawksData.head(10)"
   ]
  },
  {
   "cell_type": "markdown",
   "id": "b20ab9e1",
   "metadata": {},
   "source": [
    "Gráfico para las variables *Wing*  y *Culmen* "
   ]
  },
  {
   "cell_type": "code",
   "execution_count": 38,
   "id": "7d73bd7e",
   "metadata": {
    "scrolled": false
   },
   "outputs": [
    {
     "data": {
      "image/png": "[encoded data removed]",
      "text/plain": [
       "<Figure size 432x432 with 1 Axes>"
      ]
     },
     "metadata": {
      "needs_background": "light"
     },
     "output_type": "display_data"
    }
   ],
   "source": [
    "#Graficamos los clusters para las variables Wing y Culmen\n",
    "fig = plt.figure(figsize = (6,6))\n",
    "\n",
    "ax = fig.add_subplot(1,1,1)\n",
    "ax.set_xlabel(\"Wing\", fontsize=15)\n",
    "ax.set_ylabel(\"Culmen\", fontsize=15)\n",
    "ax.set_title(\"3 Clusters para las variables Wing y Culmen\", fontsize=18)\n",
    "\n",
    "np.random.seed(10)\n",
    "color_theme = np.array([\"blue\" , \"yellow\", \"red\"])\n",
    "ax.scatter(x=hawksData[\"Wing\"], y=hawksData[\"Culmen\"], c=color_theme[hawksData[\"KMeans_Clusters3\"]], s=20)\n",
    "\n",
    "plt.show()"
   ]
  },
  {
   "cell_type": "markdown",
   "id": "b23d7be0",
   "metadata": {},
   "source": [
    "Para 3 clusters, K-Means ha asignado bien la mayoría de las muestras. Solo 12 de las muestras que pertenecen a *SS*, 4 de las muestras de *RT*, y 4 de las muestras de *CH* han sido mal etiquetadas. \n",
    "\n",
    "Creando los grupos:\n",
    "\n",
    "- Grupo 1: Sólo RT (color azul)\n",
    "- Grupo 2: Solo SS (color amarillo)\n",
    "- Grupo 3: Solo CH (color rojo)"
   ]
  },
  {
   "cell_type": "markdown",
   "id": "504fa041",
   "metadata": {},
   "source": [
    "Evaluacion del modelo para 3 clusters"
   ]
  },
  {
   "cell_type": "code",
   "execution_count": 39,
   "id": "2285f57a",
   "metadata": {},
   "outputs": [
    {
     "name": "stdout",
     "output_type": "stream",
     "text": [
      "Silhouette Score para K-Means 3 clusters: 0.698\n"
     ]
    }
   ],
   "source": [
    "score = silhouette_score(hawksDataVar, clusteringKmeans2.labels_)\n",
    "print('Silhouette Score para K-Means 3 clusters: %.3f' % score)"
   ]
  },
  {
   "cell_type": "markdown",
   "id": "ff6f7b20",
   "metadata": {},
   "source": [
    "## Ejercicio 2\n",
    "\n",
    "## Aplicación de DBSCAN"
   ]
  },
  {
   "cell_type": "markdown",
   "id": "eaeb8c6e",
   "metadata": {},
   "source": [
    "Como sabemos de antemano que existen 3 especies de alcones en el dataset, nos aseguramos que los parametros (epsilon y minPts) de DBSCAN den como resultado la formación de 4 clusters (3 grupos y 1 de outliers). \n",
    "\n",
    "Para probar hemos escogido dos conjuntos de parametros. Uno que tiene eps=0.7 y min_samples=45, y el segundo con eps=0.55 y min_samples=15. Los dos modelos, como ya mencionamos, dan un total de 4 clusters. "
   ]
  },
  {
   "cell_type": "markdown",
   "id": "04977cea",
   "metadata": {},
   "source": [
    "### Modelos DBSCAN 1"
   ]
  },
  {
   "cell_type": "code",
   "execution_count": 40,
   "id": "51135eb2",
   "metadata": {},
   "outputs": [
    {
     "name": "stdout",
     "output_type": "stream",
     "text": [
      "El numero de clusters (incluidos los outliers) es: 4\n"
     ]
    }
   ],
   "source": [
    "#Modelo DBSCAN 1\n",
    "clusteringDBSCAN1 = DBSCAN(eps=0.7, min_samples=45).fit(hawksDataVar)\n",
    "cluster = clusteringDBSCAN1.labels_\n",
    "print(\"El numero de clusters (incluidos los outliers) es: \" + str(len(set(cluster))))"
   ]
  },
  {
   "cell_type": "markdown",
   "id": "7c947cf6",
   "metadata": {},
   "source": [
    "Gráfica del primer modelo de DBSCAN (eps=0.7 y min_samples=45)"
   ]
  },
  {
   "cell_type": "code",
   "execution_count": 41,
   "id": "366e221d",
   "metadata": {
    "scrolled": false
   },
   "outputs": [
    {
     "data": {
      "image/png": "[encoded data removed]",
      "text/plain": [
       "<Figure size 432x288 with 1 Axes>"
      ]
     },
     "metadata": {
      "needs_background": "light"
     },
     "output_type": "display_data"
    }
   ],
   "source": [
    "#Separar outliers de clusters\n",
    "outliers_df = hawksDataVar[clusteringDBSCAN1.labels_ == -1]\n",
    "clusters_df = hawksDataVar[clusteringDBSCAN1.labels_ != -1]\n",
    "\n",
    "np.random.seed(10)\n",
    "colors = clusteringDBSCAN1.labels_\n",
    "colors_clusters = colors[colors != -1]\n",
    "color_outliers = \"red\"\n",
    "\n",
    "#Graficar clusters y outliers\n",
    "fig = plt.figure()\n",
    "\n",
    "ax = fig.add_axes([.1, .1, 1, 1])\n",
    "\n",
    "ax.scatter(clusters_df[\"Wing\"], clusters_df[\"Culmen\"], c = colors_clusters, s=30)\n",
    "ax.scatter(outliers_df[\"Wing\"], outliers_df[\"Culmen\"], c = color_outliers, s=30)\n",
    "\n",
    "ax.set_xlabel(\"Wing\")\n",
    "ax.set_ylabel(\"Culmen\")\n",
    "plt.title(\"Clusters de alcones con algoritmo DBSCAN\", fontsize=18)\n",
    "\n",
    "plt.show()\n",
    "\n",
    "#Fuente: https://www.youtube.com/watch?v=eq1zKgCFwkk "
   ]
  },
  {
   "cell_type": "markdown",
   "id": "5750ef58",
   "metadata": {},
   "source": [
    "Creando los grupos:\n",
    "\n",
    "- Grupo 1: Sólo RT (color morado oscuro)\n",
    "- Grupo 2: Solo SS (color verde)\n",
    "- Grupo 3: Solo CH (color amarillo )\n",
    "\n",
    "\n",
    "- Grupo 4: Outliers (color rojo)"
   ]
  },
  {
   "cell_type": "markdown",
   "id": "8e2044dc",
   "metadata": {},
   "source": [
    "Evaluacion del modelo para DBSCAN 1"
   ]
  },
  {
   "cell_type": "code",
   "execution_count": 42,
   "id": "7cfdf271",
   "metadata": {},
   "outputs": [
    {
     "name": "stdout",
     "output_type": "stream",
     "text": [
      "Silhouette Score para DBSCAN 1: 0.660\n"
     ]
    }
   ],
   "source": [
    "score = silhouette_score(hawksDataVar, clusteringDBSCAN1.labels_)\n",
    "print('Silhouette Score para DBSCAN 1: %.3f' % score)"
   ]
  },
  {
   "cell_type": "markdown",
   "id": "e052a56b",
   "metadata": {},
   "source": [
    "### Modelo DBSCAN 2"
   ]
  },
  {
   "cell_type": "code",
   "execution_count": 43,
   "id": "a20c9e71",
   "metadata": {},
   "outputs": [
    {
     "name": "stdout",
     "output_type": "stream",
     "text": [
      "El numero de clusters (incluidos los outliers) es: 4\n"
     ]
    }
   ],
   "source": [
    "#Modelo DBSCAN 2\n",
    "clusteringDBSCAN2 = DBSCAN(eps=0.55, min_samples=15).fit(hawksDataVar)\n",
    "cluster = clusteringDBSCAN2.labels_\n",
    "print(\"El numero de clusters (incluidos los outliers) es: \" + str(len(set(cluster))))"
   ]
  },
  {
   "cell_type": "markdown",
   "id": "0a39579c",
   "metadata": {},
   "source": [
    "Gráfica del segundo modelo de DBSCAN (eps=0.55 y min_samples=15)"
   ]
  },
  {
   "cell_type": "code",
   "execution_count": 1,
   "id": "57a61631",
   "metadata": {
    "scrolled": false
   },
   "outputs": [
    {
     "ename": "NameError",
     "evalue": "name 'hawksDataVar' is not defined",
     "output_type": "error",
     "traceback": [
      "\u001b[1;31m---------------------------------------------------------------------------\u001b[0m",
      "\u001b[1;31mNameError\u001b[0m                                 Traceback (most recent call last)",
      "Input \u001b[1;32mIn [1]\u001b[0m, in \u001b[0;36m<cell line: 2>\u001b[1;34m()\u001b[0m\n\u001b[0;32m      1\u001b[0m \u001b[38;5;66;03m#Separar outliers de clusters\u001b[39;00m\n\u001b[1;32m----> 2\u001b[0m outliers_df \u001b[38;5;241m=\u001b[39m \u001b[43mhawksDataVar\u001b[49m[clusteringDBSCAN2\u001b[38;5;241m.\u001b[39mlabels_ \u001b[38;5;241m==\u001b[39m \u001b[38;5;241m-\u001b[39m\u001b[38;5;241m1\u001b[39m]\n\u001b[0;32m      3\u001b[0m clusters_df \u001b[38;5;241m=\u001b[39m hawksDataVar[clusteringDBSCAN2\u001b[38;5;241m.\u001b[39mlabels_ \u001b[38;5;241m!=\u001b[39m \u001b[38;5;241m-\u001b[39m\u001b[38;5;241m1\u001b[39m]\n\u001b[0;32m      5\u001b[0m np\u001b[38;5;241m.\u001b[39mrandom\u001b[38;5;241m.\u001b[39mseed(\u001b[38;5;241m10\u001b[39m)\n",
      "\u001b[1;31mNameError\u001b[0m: name 'hawksDataVar' is not defined"
     ]
    }
   ],
   "source": [
    "#Separar outliers de clusters\n",
    "outliers_df = hawksDataVar[clusteringDBSCAN2.labels_ == -1]\n",
    "clusters_df = hawksDataVar[clusteringDBSCAN2.labels_ != -1]\n",
    "\n",
    "np.random.seed(10)\n",
    "colors = clusteringDBSCAN2.labels_\n",
    "colors_clusters = colors[colors != -1]\n",
    "color_outliers = \"red\"\n",
    "\n",
    "#Graficar clusters y outliers\n",
    "fig = plt.figure()\n",
    "\n",
    "ax = fig.add_axes([.1, .1, 1, 1])\n",
    "\n",
    "ax.scatter(clusters_df[\"Wing\"], clusters_df[\"Culmen\"], c = colors_clusters, s=30)\n",
    "ax.scatter(outliers_df[\"Wing\"], outliers_df[\"Culmen\"], c = color_outliers, s=30)\n",
    "\n",
    "ax.set_xlabel(\"Wing\")\n",
    "ax.set_ylabel(\"Culmen\")\n",
    "plt.title(\"Clusters de alcones con algoritmo DBSCAN\", fontsize=18)\n",
    "\n",
    "plt.show()"
   ]
  },
  {
   "cell_type": "markdown",
   "id": "1235db92",
   "metadata": {},
   "source": [
    "Creando los grupos:\n",
    "\n",
    "- Grupo 1: Sólo RT (color morado oscuro)\n",
    "- Grupo 2: Solo SS (color amarillo)\n",
    "- Grupo 3: Solo CH (color verde)\n",
    "\n",
    "\n",
    "\n",
    "- Grupo 4: Outliers (color rojo)"
   ]
  },
  {
   "cell_type": "markdown",
   "id": "4b853384",
   "metadata": {},
   "source": [
    "Como podemos observar con las dos gráficas resultantes, hay variabilidad en la designación de las muestras a los diferentes clusters. El segundo modelo que tiene epsilon y minPts menores, por ejemplo, asigna algunas muestras como outliers que en el primer modelo son parte de los clusters de especies. "
   ]
  },
  {
   "cell_type": "markdown",
   "id": "ee859fca",
   "metadata": {},
   "source": [
    "Evaluacion del modelo para DBSCAN 2"
   ]
  },
  {
   "cell_type": "code",
   "execution_count": 2,
   "id": "8a4cea49",
   "metadata": {},
   "outputs": [
    {
     "ename": "NameError",
     "evalue": "name 'silhouette_score' is not defined",
     "output_type": "error",
     "traceback": [
      "\u001b[1;31m---------------------------------------------------------------------------\u001b[0m",
      "\u001b[1;31mNameError\u001b[0m                                 Traceback (most recent call last)",
      "Input \u001b[1;32mIn [2]\u001b[0m, in \u001b[0;36m<cell line: 1>\u001b[1;34m()\u001b[0m\n\u001b[1;32m----> 1\u001b[0m score \u001b[38;5;241m=\u001b[39m \u001b[43msilhouette_score\u001b[49m(hawksDataVar, clusteringDBSCAN2\u001b[38;5;241m.\u001b[39mlabels_, metric\u001b[38;5;241m=\u001b[39m\u001b[38;5;124m'\u001b[39m\u001b[38;5;124meuclidean\u001b[39m\u001b[38;5;124m'\u001b[39m)\n\u001b[0;32m      2\u001b[0m \u001b[38;5;28mprint\u001b[39m(\u001b[38;5;124m'\u001b[39m\u001b[38;5;124mSilhouette Score para DBSCAN 2: \u001b[39m\u001b[38;5;132;01m%.3f\u001b[39;00m\u001b[38;5;124m'\u001b[39m \u001b[38;5;241m%\u001b[39m score)\n",
      "\u001b[1;31mNameError\u001b[0m: name 'silhouette_score' is not defined"
     ]
    }
   ],
   "source": [
    "score = silhouette_score(hawksDataVar, clusteringDBSCAN2.labels_, metric='euclidean')\n",
    "print('Silhouette Score para DBSCAN 2: %.3f' % score)"
   ]
  },
  {
   "cell_type": "markdown",
   "id": "edeef856",
   "metadata": {},
   "source": [
    "## Aplicación de OPTICS"
   ]
  },
  {
   "cell_type": "markdown",
   "id": "cc03b9c4",
   "metadata": {},
   "source": [
    "Contruimos el modelo"
   ]
  },
  {
   "cell_type": "code",
   "execution_count": 46,
   "id": "5f49a73c",
   "metadata": {},
   "outputs": [],
   "source": [
    "optics_clustering = OPTICS(min_samples=10, xi = 0.05, min_cluster_size = 0.05).fit(hawksDataVar)\n",
    "labels = optics_clustering.labels_"
   ]
  },
  {
   "cell_type": "markdown",
   "id": "e3cbb83d",
   "metadata": {},
   "source": [
    "Evaluacion del modelo OPTICS"
   ]
  },
  {
   "cell_type": "code",
   "execution_count": 47,
   "id": "bb46c114",
   "metadata": {},
   "outputs": [
    {
     "name": "stdout",
     "output_type": "stream",
     "text": [
      "Silhouette Score para OPTICS: 0.664\n"
     ]
    }
   ],
   "source": [
    "score = silhouette_score(hawksDataVar, optics_clustering.labels_, metric='euclidean')\n",
    "print('Silhouette Score para OPTICS: %.3f' % score)"
   ]
  },
  {
   "cell_type": "markdown",
   "id": "8106d0bb",
   "metadata": {},
   "source": [
    "Almacenamos de los resultados del entrenamiento."
   ]
  },
  {
   "cell_type": "code",
   "execution_count": 48,
   "id": "a527d383",
   "metadata": {},
   "outputs": [],
   "source": [
    "# Creamos las etiquetas según la técnica DBSCAN con eps = 0.5\n",
    "labels1 = cluster_optics_dbscan(reachability = optics_clustering.reachability_, \n",
    "                                core_distances = optics_clustering.core_distances_, \n",
    "                                ordering = optics_clustering.ordering_, eps = 0.5)\n",
    "  \n",
    "# Creamos las etiquetas según la técnica DBSCAN con eps = 2.0\n",
    "labels2 = cluster_optics_dbscan(reachability = optics_clustering.reachability_, \n",
    "                                core_distances = optics_clustering.core_distances_,\n",
    "                                ordering = optics_clustering.ordering_, eps = 2)\n",
    "\n",
    "# Creamos una matriz numpy con números en espacios iguales hasta el rango especificado\n",
    "space = np.arange(len(hawksDataVar))\n",
    "  \n",
    "# Almacenamos la reachability distance de cada punto\n",
    "reachability =optics_clustering.reachability_[optics_clustering.ordering_]\n",
    "  \n",
    "# Almacenamos las etiquetas del clúster de cada punto\n",
    "labels = optics_clustering.labels_[optics_clustering.ordering_]\n"
   ]
  },
  {
   "cell_type": "markdown",
   "id": "347a9455",
   "metadata": {},
   "source": [
    "Visualizamos los resultados"
   ]
  },
  {
   "cell_type": "code",
   "execution_count": 49,
   "id": "5f0a96b4",
   "metadata": {},
   "outputs": [
    {
     "data": {
      "image/png": "[encoded data removed]",
      "text/plain": [
       "<Figure size 720x504 with 4 Axes>"
      ]
     },
     "metadata": {
      "needs_background": "light"
     },
     "output_type": "display_data"
    }
   ],
   "source": [
    "#Grafica de optics\n",
    "# Definimos el marco de la visualización\n",
    "plt.figure(figsize =(10, 7))\n",
    "G = gridspec.GridSpec(2, 3)\n",
    "ax1 = plt.subplot(G[0, :])\n",
    "ax2 = plt.subplot(G[1, 0])\n",
    "ax3 = plt.subplot(G[1, 1])\n",
    "ax4 = plt.subplot(G[1, 2])\n",
    "  \n",
    "# Dibujamos el diagrama de alcanzabilidad\n",
    "colors = ['c.', 'b.', 'r.', 'y.', 'g.']\n",
    "for Class, colour in zip(range(0, 5), colors):\n",
    "    Xk = space[labels == Class]\n",
    "    Rk = reachability[labels == Class]\n",
    "    ax1.plot(Xk, Rk, colour, alpha = 0.3)\n",
    "ax1.plot(space[labels == -1], reachability[labels == -1], 'k.', alpha = 0.3)\n",
    "ax1.plot(space, np.full_like(space, 2., dtype = float), 'k-', alpha = 0.5)\n",
    "ax1.plot(space, np.full_like(space, 0.5, dtype = float), 'k-.', alpha = 0.5)\n",
    "ax1.set_ylabel('Reachability Distance')\n",
    "ax1.set_title('Diagrama de alcanzabilidad', fontsize=18)\n",
    "\n",
    "# Dibujamos el  OPTICS Clustering\n",
    "colors = ['c.', 'b.', 'r.', 'y.', 'g.']\n",
    "for Class, colour in zip(range(0, 5), colors):\n",
    "    Xk = hawksDataVar[optics_clustering.labels_ == Class]\n",
    "    ax2.plot(Xk.iloc[:, 0], Xk.iloc[:, 1], colour, alpha = 0.3)\n",
    "      \n",
    "ax2.plot(hawksDataVar.iloc[optics_clustering.labels_ == -1, 0],\n",
    "        hawksDataVar.iloc[optics_clustering.labels_ == -1, 1],\n",
    "       'k+', alpha = 0.1)\n",
    "ax2.set_title('OPTICS Clustering')\n",
    "  \n",
    "# Dibujamos el DBSCAN Clustering con eps = 0.5\n",
    "colors = ['c', 'b', 'r', 'y', 'g', 'greenyellow']\n",
    "for Class, colour in zip(range(0, 6), colors):\n",
    "    Xk = hawksDataVar[labels1 == Class]\n",
    "    ax3.plot(Xk.iloc[:, 0], Xk.iloc[:, 1], colour, alpha = 0.3, marker ='.')\n",
    "        \n",
    "ax3.plot(hawksDataVar.iloc[labels1 == -1, 0],\n",
    "        hawksDataVar.iloc[labels1 == -1, 1],\n",
    "       'k+', alpha = 0.1)\n",
    "ax3.set_title('DBSCAN clustering con eps = 0.5')\n",
    "  \n",
    "# Dibujamos el DBSCAN Clustering con eps = 2.0\n",
    "colors = ['c.', 'y.', 'm.', 'g.']\n",
    "for Class, colour in zip(range(0, 4), colors):\n",
    "    Xk = hawksDataVar.iloc[labels2 == Class]\n",
    "    ax4.plot(Xk.iloc[:, 0], Xk.iloc[:, 1], colour, alpha = 0.3)\n",
    "          \n",
    "ax4.plot(hawksDataVar.iloc[labels2 == -1, 0],\n",
    "        hawksDataVar.iloc[labels2 == -1, 1],\n",
    "       'k+', alpha = 0.1)\n",
    "ax4.set_title('DBSCAN Clustering con eps = 2.0')\n",
    "\n",
    "plt.tight_layout()\n",
    "plt.show()\n",
    "\n",
    "#Fuente: \n",
    "#https://www.geeksforgeeks.org/ml-optics-clustering-implementing-using-sklearn/ \n",
    "#https://scikit-learn.org/stable/auto_examples/cluster/plot_optics.html#sphx-glr-auto-examples-cluster-plot-optics-py "
   ]
  },
  {
   "cell_type": "markdown",
   "id": "9a156745",
   "metadata": {},
   "source": [
    "Podemos observar el diagrama de alcanzabilidad donde los valles representan clusters (cuando mas profundo es el valle mas denso es el cluster), mientras que las cimas indican los puntos que están entre las agrupaciones (cadidatos a ser considerardos *outliers*).\n",
    "\n",
    "En la gráfica de scatterplot de OPTICS vemos que el algoritmo ha producido 4 clusters de acuerdo a la densidad de las muestras. \n",
    "\n",
    "Por otra parte, si extraemos una agrupación de la ordenación realizada por OPTICS similar a lo que DBSCAN hubiera generado estableciendo el parámetro eps=0.5 obtenemos 3 clusters, y con eps=2.0 solo un cluster (el epsilon es demasiado grande). "
   ]
  },
  {
   "cell_type": "markdown",
   "id": "53e38c78",
   "metadata": {},
   "source": [
    "## Ejercicio 3"
   ]
  },
  {
   "cell_type": "markdown",
   "id": "e6487b4e",
   "metadata": {},
   "source": [
    "### Comparación de resultados en k-means y DBSCAN.\n",
    "El algoritmo K-Means lo usamos para 2 y 3 clusters. Para 2 clusters el resultado de evaluación de calidad de agrupamiento fue del 0.767 y para 3 clusters fue de 0.698.\n",
    "Para DBSCAN escogimos los parametros con el conocimiento de que se debe obtener 3 clusters. Basado en esto, escogemos el primer modelo DBSCAN con parametros de eps=0.7 y min_samples=45, el cual obtuvo un 0.66. Mientras que en el segundo modelo con parámetros eps=0.55 y min_samples=15 se obtuvo el 0.671.\n",
    "Para el algoritmo OPTICS se obtiene un 0.664.\n",
    "De esta manera podemos ver, que el modelo que tuvo un mejor resultado en calidad de agrupamiento es K-Means para 2 clusters. \n",
    "\n",
    "### Pros y contras de los algoritmos\n",
    "Los diferentes algoritmos tienen sus ventajas y desventajas. En el caso de K-Means, se necesita establecer el número de clusters que deseamos obtener. Por otro lado, con DBSCAN esto no es necesario ya que se obtiene sabiendo la alta o baja densidad de concentración de puntos en diferentes zonas. Sin embargo, lo que si es necesario en DBSCAN para determinar la densidad adecuada es el establecer los parámetros como epsilon (ε) y el mínimo número de puntos en la ε-vecindad de un punto (minPts). Saber que parámetros escoger depende del conocimiento de dominio, el algoritmo y conjunto de datos. Adicionalmente, DBSCAN forma clusters que pueden tener forma arbitraria y pueden no tener el mismo tamaño de característica, a diferencia de K-Means en donde los clusters son de forma más o menos esférica o convexa y deben tener el mismo tamaño de característica.\n",
    "\n",
    "### Conclusiones\n",
    "Recordemos que la media de los coeficientes de silueta, que es la medida escogida en este análisis para evaluar la calidad del agrupamiento, indica que tan bien o mal están agrupadas las diferentes muestras a su cluster. Basandonos en esta medida, el mejor resultado fue al usar K-means con 2 clusters. A pesar de que sabemos que existen 3 especies en el conjunto de datos, las diferentes decisiones a lo largo del análisis ya sea en el preprocesamiento de los datos como en la creación y ejecución del modelos o el escoger silhouette Score como el método de evaluación, determinan el resultado obtenido. "
   ]
  },
  {
   "cell_type": "code",
   "execution_count": null,
   "id": "9939a8f8",
   "metadata": {},
   "outputs": [],
   "source": []
  }
 ],
 "metadata": {
  "kernelspec": {
   "display_name": "Python 3 (ipykernel)",
   "language": "python",
   "name": "python3"
  },
  "language_info": {
   "codemirror_mode": {
    "name": "ipython",
    "version": 3
   },
   "file_extension": ".py",
   "mimetype": "text/x-python",
   "name": "python",
   "nbconvert_exporter": "python",
   "pygments_lexer": "ipython3",
   "version": "3.9.1"
  }
 },
 "nbformat": 4,
 "nbformat_minor": 5
}
